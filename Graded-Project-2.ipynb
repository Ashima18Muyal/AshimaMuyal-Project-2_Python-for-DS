{
 "cells": [
  {
   "cell_type": "markdown",
   "id": "988bb2d2-7935-4f9c-9bf3-b6bed909202b",
   "metadata": {},
   "source": [
    "## Graded Project\r",
    "#  Machine Learning - Unsupervise Learning relevant people"
   ]
  },
  {
   "cell_type": "markdown",
   "id": "914a9fda-8795-4ece-be64-7fa37ca684c3",
   "metadata": {},
   "source": [
    "## Domain-E-commerce"
   ]
  },
  {
   "cell_type": "markdown",
   "id": "ba7e50c5-c685-4a68-9c41-66819a89f23a",
   "metadata": {},
   "source": [
    "## Business Context\n",
    " ● Customer segmentation is one of the most important marketing tools at your\n",
    " disposal, because it can help a business to better understand its target audience.\n",
    " This is because it groups customers based on common characteristics.\n",
    " \n",
    " ● Segmentation can be based on the customer’s habits and lifestyle, in\n",
    " particular, their buying habits. Different age groups, for example, tend to\n",
    " spend their money in different ways, so brands need to be aware of who\n",
    " exactly is buying their product.\n",
    " \n",
    " ● Segmentation also focuses more on the personality of the consumer,\n",
    " including their opinions, interests, reviews, and rating. Breaking down a\n",
    " large customer base into more manageable clusters, making it easier to\n",
    " identify your target audience and launch campaigns and promote the\n",
    " business to the most relevant people"
   ]
  },
  {
   "cell_type": "markdown",
   "id": "9b08f9a7-036c-4d2b-b93d-189cdbae2e0b",
   "metadata": {},
   "source": [
    "## Dataset Description:\r\n",
    " The dataset contains measurements of clothing fit from RentTheRunway.\r\n",
    " RentTheRunWay is a unique platform that allows women to rent clothes for\r\n",
    " various occasions. The collected data is of several categories. This dataset\r\n",
    " contains self-reported fit feedback from customers as well as other side\r\n",
    " information like reviews, ratings, product categories, catalog sizes, customers’\r\n",
    " measurements (etc.)\r\n"
   ]
  },
  {
   "cell_type": "markdown",
   "id": "efe6c78d-a429-426c-94e3-82f3fa15c045",
   "metadata": {},
   "source": [
    "## Project Objective:\r\n",
    " Based on the given users and items data of an e-commerce company, segment\r\n",
    " the similar user and items into suitable clusters. Analyze the clusters and provide\r\n",
    " your insights to help the organization promote their business"
   ]
  },
  {
   "cell_type": "markdown",
   "id": "c24f8c12-8d44-40e8-8f6b-78cfe9c96a96",
   "metadata": {},
   "source": [
    "##  Import the required libraries and load the data"
   ]
  },
  {
   "cell_type": "code",
   "execution_count": 352,
   "id": "21cd4fdf-90da-4e2c-97ff-575f90f579cb",
   "metadata": {},
   "outputs": [],
   "source": [
    "import numpy as np\n",
    "import pandas as pd\n",
    "import matplotlib.pyplot as plt\n",
    "import seaborn as sns\n",
    "import warnings\n",
    "warnings.filterwarnings('ignore')\n",
    "\n",
    "from sklearn.preprocessing import StandardScaler\n",
    "from sklearn.preprocessing import LabelEncoder\n",
    "from scipy import stats\n",
    "from sklearn.cluster import KMeans\n",
    "from scipy.stats import zscore\n",
    "from scipy.spatial import distance\n",
    "from scipy.cluster.hierarchy import linkage, dendrogram, fcluster\n",
    "from sklearn.cluster import AgglomerativeClustering\n",
    "from sklearn.decomposition import PCA"
   ]
  },
  {
   "cell_type": "code",
   "execution_count": 353,
   "id": "d5d42279-f58a-48e9-a7d2-6c06a0f5a1cf",
   "metadata": {},
   "outputs": [
    {
     "data": {
      "text/html": [
       "<div>\n",
       "<style scoped>\n",
       "    .dataframe tbody tr th:only-of-type {\n",
       "        vertical-align: middle;\n",
       "    }\n",
       "\n",
       "    .dataframe tbody tr th {\n",
       "        vertical-align: top;\n",
       "    }\n",
       "\n",
       "    .dataframe thead th {\n",
       "        text-align: right;\n",
       "    }\n",
       "</style>\n",
       "<table border=\"1\" class=\"dataframe\">\n",
       "  <thead>\n",
       "    <tr style=\"text-align: right;\">\n",
       "      <th></th>\n",
       "      <th>Unnamed: 0</th>\n",
       "      <th>fit</th>\n",
       "      <th>user_id</th>\n",
       "      <th>bust size</th>\n",
       "      <th>item_id</th>\n",
       "      <th>weight</th>\n",
       "      <th>rating</th>\n",
       "      <th>rented for</th>\n",
       "      <th>review_text</th>\n",
       "      <th>body type</th>\n",
       "      <th>review_summary</th>\n",
       "      <th>category</th>\n",
       "      <th>height</th>\n",
       "      <th>size</th>\n",
       "      <th>age</th>\n",
       "      <th>review_date</th>\n",
       "    </tr>\n",
       "  </thead>\n",
       "  <tbody>\n",
       "    <tr>\n",
       "      <th>0</th>\n",
       "      <td>0</td>\n",
       "      <td>fit</td>\n",
       "      <td>420272</td>\n",
       "      <td>34d</td>\n",
       "      <td>2260466</td>\n",
       "      <td>137lbs</td>\n",
       "      <td>10.0</td>\n",
       "      <td>vacation</td>\n",
       "      <td>An adorable romper! Belt and zipper were a lit...</td>\n",
       "      <td>hourglass</td>\n",
       "      <td>So many compliments!</td>\n",
       "      <td>romper</td>\n",
       "      <td>5' 8\"</td>\n",
       "      <td>14</td>\n",
       "      <td>28.0</td>\n",
       "      <td>April 20, 2016</td>\n",
       "    </tr>\n",
       "    <tr>\n",
       "      <th>1</th>\n",
       "      <td>1</td>\n",
       "      <td>fit</td>\n",
       "      <td>273551</td>\n",
       "      <td>34b</td>\n",
       "      <td>153475</td>\n",
       "      <td>132lbs</td>\n",
       "      <td>10.0</td>\n",
       "      <td>other</td>\n",
       "      <td>I rented this dress for a photo shoot. The the...</td>\n",
       "      <td>straight &amp; narrow</td>\n",
       "      <td>I felt so glamourous!!!</td>\n",
       "      <td>gown</td>\n",
       "      <td>5' 6\"</td>\n",
       "      <td>12</td>\n",
       "      <td>36.0</td>\n",
       "      <td>June 18, 2013</td>\n",
       "    </tr>\n",
       "    <tr>\n",
       "      <th>2</th>\n",
       "      <td>2</td>\n",
       "      <td>fit</td>\n",
       "      <td>360448</td>\n",
       "      <td>NaN</td>\n",
       "      <td>1063761</td>\n",
       "      <td>NaN</td>\n",
       "      <td>10.0</td>\n",
       "      <td>party</td>\n",
       "      <td>This hugged in all the right places! It was a ...</td>\n",
       "      <td>NaN</td>\n",
       "      <td>It was a great time to celebrate the (almost) ...</td>\n",
       "      <td>sheath</td>\n",
       "      <td>5' 4\"</td>\n",
       "      <td>4</td>\n",
       "      <td>116.0</td>\n",
       "      <td>December 14, 2015</td>\n",
       "    </tr>\n",
       "    <tr>\n",
       "      <th>3</th>\n",
       "      <td>3</td>\n",
       "      <td>fit</td>\n",
       "      <td>909926</td>\n",
       "      <td>34c</td>\n",
       "      <td>126335</td>\n",
       "      <td>135lbs</td>\n",
       "      <td>8.0</td>\n",
       "      <td>formal affair</td>\n",
       "      <td>I rented this for my company's black tie award...</td>\n",
       "      <td>pear</td>\n",
       "      <td>Dress arrived on time and in perfect condition.</td>\n",
       "      <td>dress</td>\n",
       "      <td>5' 5\"</td>\n",
       "      <td>8</td>\n",
       "      <td>34.0</td>\n",
       "      <td>February 12, 2014</td>\n",
       "    </tr>\n",
       "    <tr>\n",
       "      <th>4</th>\n",
       "      <td>4</td>\n",
       "      <td>fit</td>\n",
       "      <td>151944</td>\n",
       "      <td>34b</td>\n",
       "      <td>616682</td>\n",
       "      <td>145lbs</td>\n",
       "      <td>10.0</td>\n",
       "      <td>wedding</td>\n",
       "      <td>I have always been petite in my upper body and...</td>\n",
       "      <td>athletic</td>\n",
       "      <td>Was in love with this dress !!!</td>\n",
       "      <td>gown</td>\n",
       "      <td>5' 9\"</td>\n",
       "      <td>12</td>\n",
       "      <td>27.0</td>\n",
       "      <td>September 26, 2016</td>\n",
       "    </tr>\n",
       "  </tbody>\n",
       "</table>\n",
       "</div>"
      ],
      "text/plain": [
       "   Unnamed: 0  fit  user_id bust size  item_id  weight  rating     rented for  \\\n",
       "0           0  fit   420272       34d  2260466  137lbs    10.0       vacation   \n",
       "1           1  fit   273551       34b   153475  132lbs    10.0          other   \n",
       "2           2  fit   360448       NaN  1063761     NaN    10.0          party   \n",
       "3           3  fit   909926       34c   126335  135lbs     8.0  formal affair   \n",
       "4           4  fit   151944       34b   616682  145lbs    10.0        wedding   \n",
       "\n",
       "                                         review_text          body type  \\\n",
       "0  An adorable romper! Belt and zipper were a lit...          hourglass   \n",
       "1  I rented this dress for a photo shoot. The the...  straight & narrow   \n",
       "2  This hugged in all the right places! It was a ...                NaN   \n",
       "3  I rented this for my company's black tie award...               pear   \n",
       "4  I have always been petite in my upper body and...           athletic   \n",
       "\n",
       "                                      review_summary category height  size  \\\n",
       "0                               So many compliments!   romper  5' 8\"    14   \n",
       "1                            I felt so glamourous!!!     gown  5' 6\"    12   \n",
       "2  It was a great time to celebrate the (almost) ...   sheath  5' 4\"     4   \n",
       "3   Dress arrived on time and in perfect condition.     dress  5' 5\"     8   \n",
       "4                    Was in love with this dress !!!     gown  5' 9\"    12   \n",
       "\n",
       "     age         review_date  \n",
       "0   28.0      April 20, 2016  \n",
       "1   36.0       June 18, 2013  \n",
       "2  116.0   December 14, 2015  \n",
       "3   34.0   February 12, 2014  \n",
       "4   27.0  September 26, 2016  "
      ]
     },
     "execution_count": 353,
     "metadata": {},
     "output_type": "execute_result"
    }
   ],
   "source": [
    "df = pd.read_csv('renttherunway.csv')\n",
    "df.head()"
   ]
  },
  {
   "cell_type": "code",
   "execution_count": 354,
   "id": "ebc8455f-272a-45ba-9bab-ae6e154656a9",
   "metadata": {},
   "outputs": [
    {
     "data": {
      "text/plain": [
       "<bound method DataFrame.info of         Unnamed: 0  fit  user_id bust size  item_id  weight  rating  \\\n",
       "0                0  fit   420272       34d  2260466  137lbs    10.0   \n",
       "1                1  fit   273551       34b   153475  132lbs    10.0   \n",
       "2                2  fit   360448       NaN  1063761     NaN    10.0   \n",
       "3                3  fit   909926       34c   126335  135lbs     8.0   \n",
       "4                4  fit   151944       34b   616682  145lbs    10.0   \n",
       "...            ...  ...      ...       ...      ...     ...     ...   \n",
       "192539      192539  fit    66386      34dd  2252812  140lbs    10.0   \n",
       "192540      192540  fit   118398       32c   682043  100lbs    10.0   \n",
       "192541      192541  fit    47002       36a   683251  135lbs     6.0   \n",
       "192542      192542  fit   961120       36c   126335  165lbs    10.0   \n",
       "192543      192543  fit   123612       36b   127865  155lbs    10.0   \n",
       "\n",
       "           rented for                                        review_text  \\\n",
       "0            vacation  An adorable romper! Belt and zipper were a lit...   \n",
       "1               other  I rented this dress for a photo shoot. The the...   \n",
       "2               party  This hugged in all the right places! It was a ...   \n",
       "3       formal affair  I rented this for my company's black tie award...   \n",
       "4             wedding  I have always been petite in my upper body and...   \n",
       "...               ...                                                ...   \n",
       "192539           work                                  Fit like a glove!   \n",
       "192540           work  The pattern contrast on this dress is really s...   \n",
       "192541       everyday  Like the other DVF wraps, the fit on this is f...   \n",
       "192542        wedding  This dress was PERFECTION.  it looked incredib...   \n",
       "192543        wedding  This dress was wonderful! I had originally pla...   \n",
       "\n",
       "                body type                                     review_summary  \\\n",
       "0               hourglass                               So many compliments!   \n",
       "1       straight & narrow                            I felt so glamourous!!!   \n",
       "2                     NaN  It was a great time to celebrate the (almost) ...   \n",
       "3                    pear   Dress arrived on time and in perfect condition.    \n",
       "4                athletic                    Was in love with this dress !!!   \n",
       "...                   ...                                                ...   \n",
       "192539          hourglass       LOVE IT!!! First Item Im thinking of buying!   \n",
       "192540             petite                                           LOVE it!   \n",
       "192541  straight & narrow                    Loud patterning, flattering fit   \n",
       "192542               pear  loved this dress it was comfortable and photog...   \n",
       "192543           athletic  I wore this to a beautiful black tie optional ...   \n",
       "\n",
       "        category height  size    age         review_date  \n",
       "0         romper  5' 8\"    14   28.0      April 20, 2016  \n",
       "1           gown  5' 6\"    12   36.0       June 18, 2013  \n",
       "2         sheath  5' 4\"     4  116.0   December 14, 2015  \n",
       "3          dress  5' 5\"     8   34.0   February 12, 2014  \n",
       "4           gown  5' 9\"    12   27.0  September 26, 2016  \n",
       "...          ...    ...   ...    ...                 ...  \n",
       "192539  jumpsuit  5' 9\"     8   42.0        May 18, 2016  \n",
       "192540     dress  5' 1\"     4   29.0  September 30, 2016  \n",
       "192541     dress  5' 8\"     8   31.0       March 4, 2016  \n",
       "192542     dress  5' 6\"    16   31.0   November 25, 2015  \n",
       "192543      gown  5' 6\"    16   30.0     August 29, 2017  \n",
       "\n",
       "[192544 rows x 16 columns]>"
      ]
     },
     "execution_count": 354,
     "metadata": {},
     "output_type": "execute_result"
    }
   ],
   "source": [
    "df.info"
   ]
  },
  {
   "cell_type": "code",
   "execution_count": 355,
   "id": "2f4ca6d2-4194-4ef8-a784-9ed7d2f8d0df",
   "metadata": {},
   "outputs": [
    {
     "data": {
      "text/plain": [
       "(192544, 16)"
      ]
     },
     "execution_count": 355,
     "metadata": {},
     "output_type": "execute_result"
    }
   ],
   "source": [
    "df.shape"
   ]
  },
  {
   "cell_type": "code",
   "execution_count": 356,
   "id": "29c6a3af-ce3e-4360-92a9-fe4f743638d3",
   "metadata": {},
   "outputs": [
    {
     "data": {
      "text/plain": [
       "<bound method DataFrame.info of         Unnamed: 0  fit  user_id bust size  item_id  weight  rating  \\\n",
       "0                0  fit   420272       34d  2260466  137lbs    10.0   \n",
       "1                1  fit   273551       34b   153475  132lbs    10.0   \n",
       "2                2  fit   360448       NaN  1063761     NaN    10.0   \n",
       "3                3  fit   909926       34c   126335  135lbs     8.0   \n",
       "4                4  fit   151944       34b   616682  145lbs    10.0   \n",
       "...            ...  ...      ...       ...      ...     ...     ...   \n",
       "192539      192539  fit    66386      34dd  2252812  140lbs    10.0   \n",
       "192540      192540  fit   118398       32c   682043  100lbs    10.0   \n",
       "192541      192541  fit    47002       36a   683251  135lbs     6.0   \n",
       "192542      192542  fit   961120       36c   126335  165lbs    10.0   \n",
       "192543      192543  fit   123612       36b   127865  155lbs    10.0   \n",
       "\n",
       "           rented for                                        review_text  \\\n",
       "0            vacation  An adorable romper! Belt and zipper were a lit...   \n",
       "1               other  I rented this dress for a photo shoot. The the...   \n",
       "2               party  This hugged in all the right places! It was a ...   \n",
       "3       formal affair  I rented this for my company's black tie award...   \n",
       "4             wedding  I have always been petite in my upper body and...   \n",
       "...               ...                                                ...   \n",
       "192539           work                                  Fit like a glove!   \n",
       "192540           work  The pattern contrast on this dress is really s...   \n",
       "192541       everyday  Like the other DVF wraps, the fit on this is f...   \n",
       "192542        wedding  This dress was PERFECTION.  it looked incredib...   \n",
       "192543        wedding  This dress was wonderful! I had originally pla...   \n",
       "\n",
       "                body type                                     review_summary  \\\n",
       "0               hourglass                               So many compliments!   \n",
       "1       straight & narrow                            I felt so glamourous!!!   \n",
       "2                     NaN  It was a great time to celebrate the (almost) ...   \n",
       "3                    pear   Dress arrived on time and in perfect condition.    \n",
       "4                athletic                    Was in love with this dress !!!   \n",
       "...                   ...                                                ...   \n",
       "192539          hourglass       LOVE IT!!! First Item Im thinking of buying!   \n",
       "192540             petite                                           LOVE it!   \n",
       "192541  straight & narrow                    Loud patterning, flattering fit   \n",
       "192542               pear  loved this dress it was comfortable and photog...   \n",
       "192543           athletic  I wore this to a beautiful black tie optional ...   \n",
       "\n",
       "        category height  size    age         review_date  \n",
       "0         romper  5' 8\"    14   28.0      April 20, 2016  \n",
       "1           gown  5' 6\"    12   36.0       June 18, 2013  \n",
       "2         sheath  5' 4\"     4  116.0   December 14, 2015  \n",
       "3          dress  5' 5\"     8   34.0   February 12, 2014  \n",
       "4           gown  5' 9\"    12   27.0  September 26, 2016  \n",
       "...          ...    ...   ...    ...                 ...  \n",
       "192539  jumpsuit  5' 9\"     8   42.0        May 18, 2016  \n",
       "192540     dress  5' 1\"     4   29.0  September 30, 2016  \n",
       "192541     dress  5' 8\"     8   31.0       March 4, 2016  \n",
       "192542     dress  5' 6\"    16   31.0   November 25, 2015  \n",
       "192543      gown  5' 6\"    16   30.0     August 29, 2017  \n",
       "\n",
       "[192544 rows x 16 columns]>"
      ]
     },
     "execution_count": 356,
     "metadata": {},
     "output_type": "execute_result"
    }
   ],
   "source": [
    "df.info"
   ]
  },
  {
   "cell_type": "markdown",
   "id": "acea3c46-52e5-44a1-9404-d61608a685ad",
   "metadata": {},
   "source": [
    "##  Data cleansing and Exploratory data analysis:"
   ]
  },
  {
   "cell_type": "markdown",
   "id": "c174c98e-1233-47e1-badc-489ef214d0bf",
   "metadata": {},
   "source": [
    "###  3. Check if there are any duplicate records in the dataset? If any, drop them."
   ]
  },
  {
   "cell_type": "code",
   "execution_count": 359,
   "id": "c9622772-1c89-4c84-8b41-07c09fc0749e",
   "metadata": {},
   "outputs": [
    {
     "data": {
      "text/plain": [
       "0"
      ]
     },
     "execution_count": 359,
     "metadata": {},
     "output_type": "execute_result"
    }
   ],
   "source": [
    "## Check duplicated records in the dataset\n",
    "len(df[df.duplicated()])"
   ]
  },
  {
   "cell_type": "markdown",
   "id": "ee4a1696-85e3-49a5-af95-fb207cac94cb",
   "metadata": {},
   "source": [
    "### 4. Drop the columns which you think redundant for the analysis.(Hint: drop columns like ‘id’, ‘review’) "
   ]
  },
  {
   "cell_type": "code",
   "execution_count": 361,
   "id": "d8c9a9eb-b4d7-4398-93fe-b100f6d1da4f",
   "metadata": {},
   "outputs": [],
   "source": [
    "## dropping redundant columns\n",
    "df = df.drop(columns=['item_id','review_text', 'review_summary'],axis=1)"
   ]
  },
  {
   "cell_type": "code",
   "execution_count": 362,
   "id": "8b37cbd6-8173-45cb-aa2a-15d1bc3d13d4",
   "metadata": {},
   "outputs": [
    {
     "data": {
      "text/html": [
       "<div>\n",
       "<style scoped>\n",
       "    .dataframe tbody tr th:only-of-type {\n",
       "        vertical-align: middle;\n",
       "    }\n",
       "\n",
       "    .dataframe tbody tr th {\n",
       "        vertical-align: top;\n",
       "    }\n",
       "\n",
       "    .dataframe thead th {\n",
       "        text-align: right;\n",
       "    }\n",
       "</style>\n",
       "<table border=\"1\" class=\"dataframe\">\n",
       "  <thead>\n",
       "    <tr style=\"text-align: right;\">\n",
       "      <th></th>\n",
       "      <th>Unnamed: 0</th>\n",
       "      <th>fit</th>\n",
       "      <th>user_id</th>\n",
       "      <th>bust size</th>\n",
       "      <th>weight</th>\n",
       "      <th>rating</th>\n",
       "      <th>rented for</th>\n",
       "      <th>body type</th>\n",
       "      <th>category</th>\n",
       "      <th>height</th>\n",
       "      <th>size</th>\n",
       "      <th>age</th>\n",
       "      <th>review_date</th>\n",
       "    </tr>\n",
       "  </thead>\n",
       "  <tbody>\n",
       "    <tr>\n",
       "      <th>0</th>\n",
       "      <td>0</td>\n",
       "      <td>fit</td>\n",
       "      <td>420272</td>\n",
       "      <td>34d</td>\n",
       "      <td>137lbs</td>\n",
       "      <td>10.0</td>\n",
       "      <td>vacation</td>\n",
       "      <td>hourglass</td>\n",
       "      <td>romper</td>\n",
       "      <td>5' 8\"</td>\n",
       "      <td>14</td>\n",
       "      <td>28.0</td>\n",
       "      <td>April 20, 2016</td>\n",
       "    </tr>\n",
       "    <tr>\n",
       "      <th>1</th>\n",
       "      <td>1</td>\n",
       "      <td>fit</td>\n",
       "      <td>273551</td>\n",
       "      <td>34b</td>\n",
       "      <td>132lbs</td>\n",
       "      <td>10.0</td>\n",
       "      <td>other</td>\n",
       "      <td>straight &amp; narrow</td>\n",
       "      <td>gown</td>\n",
       "      <td>5' 6\"</td>\n",
       "      <td>12</td>\n",
       "      <td>36.0</td>\n",
       "      <td>June 18, 2013</td>\n",
       "    </tr>\n",
       "    <tr>\n",
       "      <th>2</th>\n",
       "      <td>2</td>\n",
       "      <td>fit</td>\n",
       "      <td>360448</td>\n",
       "      <td>NaN</td>\n",
       "      <td>NaN</td>\n",
       "      <td>10.0</td>\n",
       "      <td>party</td>\n",
       "      <td>NaN</td>\n",
       "      <td>sheath</td>\n",
       "      <td>5' 4\"</td>\n",
       "      <td>4</td>\n",
       "      <td>116.0</td>\n",
       "      <td>December 14, 2015</td>\n",
       "    </tr>\n",
       "    <tr>\n",
       "      <th>3</th>\n",
       "      <td>3</td>\n",
       "      <td>fit</td>\n",
       "      <td>909926</td>\n",
       "      <td>34c</td>\n",
       "      <td>135lbs</td>\n",
       "      <td>8.0</td>\n",
       "      <td>formal affair</td>\n",
       "      <td>pear</td>\n",
       "      <td>dress</td>\n",
       "      <td>5' 5\"</td>\n",
       "      <td>8</td>\n",
       "      <td>34.0</td>\n",
       "      <td>February 12, 2014</td>\n",
       "    </tr>\n",
       "    <tr>\n",
       "      <th>4</th>\n",
       "      <td>4</td>\n",
       "      <td>fit</td>\n",
       "      <td>151944</td>\n",
       "      <td>34b</td>\n",
       "      <td>145lbs</td>\n",
       "      <td>10.0</td>\n",
       "      <td>wedding</td>\n",
       "      <td>athletic</td>\n",
       "      <td>gown</td>\n",
       "      <td>5' 9\"</td>\n",
       "      <td>12</td>\n",
       "      <td>27.0</td>\n",
       "      <td>September 26, 2016</td>\n",
       "    </tr>\n",
       "  </tbody>\n",
       "</table>\n",
       "</div>"
      ],
      "text/plain": [
       "   Unnamed: 0  fit  user_id bust size  weight  rating     rented for  \\\n",
       "0           0  fit   420272       34d  137lbs    10.0       vacation   \n",
       "1           1  fit   273551       34b  132lbs    10.0          other   \n",
       "2           2  fit   360448       NaN     NaN    10.0          party   \n",
       "3           3  fit   909926       34c  135lbs     8.0  formal affair   \n",
       "4           4  fit   151944       34b  145lbs    10.0        wedding   \n",
       "\n",
       "           body type category height  size    age         review_date  \n",
       "0          hourglass   romper  5' 8\"    14   28.0      April 20, 2016  \n",
       "1  straight & narrow     gown  5' 6\"    12   36.0       June 18, 2013  \n",
       "2                NaN   sheath  5' 4\"     4  116.0   December 14, 2015  \n",
       "3               pear    dress  5' 5\"     8   34.0   February 12, 2014  \n",
       "4           athletic     gown  5' 9\"    12   27.0  September 26, 2016  "
      ]
     },
     "execution_count": 362,
     "metadata": {},
     "output_type": "execute_result"
    }
   ],
   "source": [
    "df.head()"
   ]
  },
  {
   "cell_type": "markdown",
   "id": "896315c1-024e-4bc5-b89c-4394a5fa7d16",
   "metadata": {},
   "source": [
    "###  5. Check the column 'weight', Is there any presence of string data? If yes, remove the string data and convert to float. (Hint: 'weight' has the suffix as lbs) "
   ]
  },
  {
   "cell_type": "code",
   "execution_count": 364,
   "id": "503fc7b6-cc8b-4ef7-82b8-36f6a1ef140d",
   "metadata": {},
   "outputs": [
    {
     "data": {
      "text/plain": [
       "weight\n",
       "130lbs    14370\n",
       "135lbs    13705\n",
       "125lbs    12869\n",
       "140lbs    12162\n",
       "120lbs    10687\n",
       "          ...  \n",
       "249lbs        1\n",
       "261lbs        1\n",
       "273lbs        1\n",
       "70lbs         1\n",
       "251lbs        1\n",
       "Name: count, Length: 190, dtype: int64"
      ]
     },
     "execution_count": 364,
     "metadata": {},
     "output_type": "execute_result"
    }
   ],
   "source": [
    "# Checking number of unique categories present in the \"weight\"\n",
    "df['weight'].value_counts()"
   ]
  },
  {
   "cell_type": "markdown",
   "id": "01cbc0d0-cfaf-44d1-b27d-d202562d1e5f",
   "metadata": {},
   "source": [
    "###  6. Check the unique categories for the column 'rented for' and group 'party:  cocktail' category with 'party'."
   ]
  },
  {
   "cell_type": "code",
   "execution_count": 366,
   "id": "94b2652e-b3d8-42a6-984c-c52e92c0d9c5",
   "metadata": {},
   "outputs": [
    {
     "data": {
      "text/plain": [
       "rented for\n",
       "wedding            57784\n",
       "formal affair      40408\n",
       "party              35626\n",
       "everyday           16822\n",
       "other              15388\n",
       "work               15042\n",
       "date                7388\n",
       "vacation            4075\n",
       "party: cocktail        1\n",
       "Name: count, dtype: int64"
      ]
     },
     "execution_count": 366,
     "metadata": {},
     "output_type": "execute_result"
    }
   ],
   "source": [
    "# Checking number of unique categories present in the \"rented for\"\n",
    "df['rented for'].value_counts()"
   ]
  },
  {
   "cell_type": "code",
   "execution_count": 367,
   "id": "cba7f9ba-0f2c-4b7e-8ed3-945ab54e5dca",
   "metadata": {},
   "outputs": [
    {
     "data": {
      "text/plain": [
       "rented for\n",
       "wedding            57784\n",
       "formal affair      40408\n",
       "party              35626\n",
       "everyday           16822\n",
       "other              15388\n",
       "work               15042\n",
       "date                7388\n",
       "vacation            4075\n",
       "party: cocktail        1\n",
       "Name: count, dtype: int64"
      ]
     },
     "execution_count": 367,
     "metadata": {},
     "output_type": "execute_result"
    }
   ],
   "source": [
    "## recheck after grouping the categories.\n",
    "df['rented for'].value_counts()"
   ]
  },
  {
   "cell_type": "code",
   "execution_count": null,
   "id": "f32927a0-4834-45d5-82e8-770f06f1e1dd",
   "metadata": {},
   "outputs": [],
   "source": []
  },
  {
   "cell_type": "markdown",
   "id": "8d85d711-d666-4a8a-b156-f8b8e592a0a6",
   "metadata": {},
   "source": [
    "### 7. The column 'height' is in feet with a quotation mark, Convert to inches with  float datatype."
   ]
  },
  {
   "cell_type": "code",
   "execution_count": 369,
   "id": "c8a64e03-9149-4b99-8ad6-51d40953bc63",
   "metadata": {},
   "outputs": [
    {
     "data": {
      "text/plain": [
       "height\n",
       "5' 4\"     28012\n",
       "5' 6\"     25680\n",
       "5' 5\"     24318\n",
       "5' 7\"     24020\n",
       "5' 3\"     20736\n",
       "5' 2\"     16762\n",
       "5' 8\"     16369\n",
       "5' 9\"     11371\n",
       "5' 1\"      7145\n",
       "5' 10\"     7041\n",
       "5' 0\"      4015\n",
       "5' 11\"     3114\n",
       "6' 0\"      1406\n",
       "4' 11\"     1014\n",
       "6' 1\"       364\n",
       "4' 10\"      212\n",
       "6' 2\"       124\n",
       "4' 9\"        60\n",
       "6' 3\"        31\n",
       "4' 6\"        20\n",
       "6' 4\"        18\n",
       "4' 8\"        17\n",
       "4' 7\"        16\n",
       "6' 6\"         2\n",
       "Name: count, dtype: int64"
      ]
     },
     "execution_count": 369,
     "metadata": {},
     "output_type": "execute_result"
    }
   ],
   "source": [
    "# Checking number of unique categories present in the \"height\"\n",
    "df['height'].value_counts()"
   ]
  },
  {
   "cell_type": "code",
   "execution_count": 370,
   "id": "3d8f1210-4443-454b-8853-a03c76ac387f",
   "metadata": {},
   "outputs": [],
   "source": [
    "data = {'height'}\n",
    "df = pd.DataFrame(data)"
   ]
  },
  {
   "cell_type": "code",
   "execution_count": 371,
   "id": "2523edcf-3882-4ecc-a8d8-e1719b7d0778",
   "metadata": {},
   "outputs": [],
   "source": [
    "# Function to convert height from feet and inches to inches\n",
    "def convert_height_to_inches(height_str):\n",
    "    # Remove the quotation marks and split the feet and inches\n",
    "    feet, inches = height_str.replace('\"', '').split(\"'\")\n",
    "    # Convert to inches\n",
    "    total_inches = int(feet) * 12 + int(inches)\n",
    "    return total_inches"
   ]
  },
  {
   "cell_type": "code",
   "execution_count": 372,
   "id": "1d9b54ee-8c1d-4147-8b96-317943cb546f",
   "metadata": {},
   "outputs": [
    {
     "ename": "KeyError",
     "evalue": "'height'",
     "output_type": "error",
     "traceback": [
      "\u001b[1;31m---------------------------------------------------------------------------\u001b[0m",
      "\u001b[1;31mKeyError\u001b[0m                                  Traceback (most recent call last)",
      "Cell \u001b[1;32mIn[372], line 2\u001b[0m\n\u001b[0;32m      1\u001b[0m \u001b[38;5;66;03m# Apply the conversion function to the 'height' column\u001b[39;00m\n\u001b[1;32m----> 2\u001b[0m df[\u001b[38;5;124m'\u001b[39m\u001b[38;5;124mheight\u001b[39m\u001b[38;5;124m'\u001b[39m] \u001b[38;5;241m=\u001b[39m df[\u001b[38;5;124m'\u001b[39m\u001b[38;5;124mheight\u001b[39m\u001b[38;5;124m'\u001b[39m]\u001b[38;5;241m.\u001b[39mapply(convert_height_to_inches)\n",
      "File \u001b[1;32mC:\\anaconda\\Lib\\site-packages\\pandas\\core\\frame.py:4102\u001b[0m, in \u001b[0;36mDataFrame.__getitem__\u001b[1;34m(self, key)\u001b[0m\n\u001b[0;32m   4100\u001b[0m \u001b[38;5;28;01mif\u001b[39;00m \u001b[38;5;28mself\u001b[39m\u001b[38;5;241m.\u001b[39mcolumns\u001b[38;5;241m.\u001b[39mnlevels \u001b[38;5;241m>\u001b[39m \u001b[38;5;241m1\u001b[39m:\n\u001b[0;32m   4101\u001b[0m     \u001b[38;5;28;01mreturn\u001b[39;00m \u001b[38;5;28mself\u001b[39m\u001b[38;5;241m.\u001b[39m_getitem_multilevel(key)\n\u001b[1;32m-> 4102\u001b[0m indexer \u001b[38;5;241m=\u001b[39m \u001b[38;5;28mself\u001b[39m\u001b[38;5;241m.\u001b[39mcolumns\u001b[38;5;241m.\u001b[39mget_loc(key)\n\u001b[0;32m   4103\u001b[0m \u001b[38;5;28;01mif\u001b[39;00m is_integer(indexer):\n\u001b[0;32m   4104\u001b[0m     indexer \u001b[38;5;241m=\u001b[39m [indexer]\n",
      "File \u001b[1;32mC:\\anaconda\\Lib\\site-packages\\pandas\\core\\indexes\\range.py:417\u001b[0m, in \u001b[0;36mRangeIndex.get_loc\u001b[1;34m(self, key)\u001b[0m\n\u001b[0;32m    415\u001b[0m         \u001b[38;5;28;01mraise\u001b[39;00m \u001b[38;5;167;01mKeyError\u001b[39;00m(key) \u001b[38;5;28;01mfrom\u001b[39;00m \u001b[38;5;21;01merr\u001b[39;00m\n\u001b[0;32m    416\u001b[0m \u001b[38;5;28;01mif\u001b[39;00m \u001b[38;5;28misinstance\u001b[39m(key, Hashable):\n\u001b[1;32m--> 417\u001b[0m     \u001b[38;5;28;01mraise\u001b[39;00m \u001b[38;5;167;01mKeyError\u001b[39;00m(key)\n\u001b[0;32m    418\u001b[0m \u001b[38;5;28mself\u001b[39m\u001b[38;5;241m.\u001b[39m_check_indexing_error(key)\n\u001b[0;32m    419\u001b[0m \u001b[38;5;28;01mraise\u001b[39;00m \u001b[38;5;167;01mKeyError\u001b[39;00m(key)\n",
      "\u001b[1;31mKeyError\u001b[0m: 'height'"
     ]
    }
   ],
   "source": [
    "# Apply the conversion function to the 'height' column\n",
    "df['height'] = df['height'].apply(convert_height_to_inches)"
   ]
  },
  {
   "cell_type": "code",
   "execution_count": null,
   "id": "1b31d7d7-803c-4232-8cca-15268c24be0c",
   "metadata": {},
   "outputs": [],
   "source": [
    "# Convert the column to float\n",
    "df['height'] = df['height'].astype(float)\n",
    "\n",
    "# Display the updated DataFrame\n",
    "print(df)"
   ]
  },
  {
   "cell_type": "code",
   "execution_count": null,
   "id": "86b5663a-8e61-4394-8c4b-de4bab8c19b4",
   "metadata": {},
   "outputs": [],
   "source": []
  },
  {
   "cell_type": "markdown",
   "id": "c7edd4cb-eb28-467e-805a-5e0ef82eee73",
   "metadata": {},
   "source": [
    " ### 8. Check for missing values in each column of the dataset? If it exists, impute them with appropriate methods. "
   ]
  },
  {
   "cell_type": "code",
   "execution_count": null,
   "id": "c9b20566-5213-4b80-9901-139c94aaa533",
   "metadata": {},
   "outputs": [],
   "source": [
    "## lets check missing values in the dataset\n",
    "df.isnull().sum()/len(df)*100"
   ]
  },
  {
   "cell_type": "code",
   "execution_count": null,
   "id": "02a2169f-5795-4f9f-a653-5a62b29d7faa",
   "metadata": {},
   "outputs": [],
   "source": [
    "print(df[numerical_cols].dtypes)"
   ]
  },
  {
   "cell_type": "code",
   "execution_count": null,
   "id": "f8a577ab-baac-42fd-9a3d-297b259ee858",
   "metadata": {},
   "outputs": [],
   "source": [
    "for col in numerical_cols:\n",
    "    df[col] = pd.to_numeric(df[col], errors='coerce')"
   ]
  },
  {
   "cell_type": "code",
   "execution_count": null,
   "id": "b7f22ac6-dc2e-4b42-8b36-53c3ebc6522c",
   "metadata": {},
   "outputs": [],
   "source": [
    "print(df[numerical_cols].isnull().mean() * 100)"
   ]
  },
  {
   "cell_type": "code",
   "execution_count": null,
   "id": "b77d801c-8cbd-4ca2-9ab3-63bcf61bf56d",
   "metadata": {},
   "outputs": [],
   "source": [
    "for col in numerical_cols:\n",
    "    df[col] = pd.to_numeric(df[col], errors='coerce')"
   ]
  },
  {
   "cell_type": "code",
   "execution_count": null,
   "id": "3ba0ee7b-29d5-4524-98dd-2bb7dcefb3c0",
   "metadata": {},
   "outputs": [],
   "source": [
    "print(df[numerical_cols].isnull().sum())"
   ]
  },
  {
   "cell_type": "code",
   "execution_count": null,
   "id": "0fb97de8-99ce-442d-b9ff-ca4e3c59a3fe",
   "metadata": {},
   "outputs": [],
   "source": [
    "print(df[numerical_cols].shape)"
   ]
  },
  {
   "cell_type": "code",
   "execution_count": null,
   "id": "1335391a-770c-4a89-a128-5d611bf24e4c",
   "metadata": {},
   "outputs": [],
   "source": [
    "from sklearn.impute import SimpleImputer\n",
    "\n",
    "# Impute numerical columns\n",
    "numerical_imputer = SimpleImputer(strategy='median')  # or 'mean'\n",
    "imputed_values = numerical_imputer.fit_transform(df[numerical_cols])\n",
    "\n",
    "# Check the shape of the imputed values\n",
    "print(imputed_values.shape)\n",
    "\n",
    "# Assign the imputed values back to the DataFrame\n",
    "df[numerical_cols] = imputed_values"
   ]
  },
  {
   "cell_type": "code",
   "execution_count": null,
   "id": "54a08617-8232-436c-b356-0f9ddc756441",
   "metadata": {},
   "outputs": [],
   "source": [
    "print(\"Shape of imputed values:\", imputed_values.shape)"
   ]
  },
  {
   "cell_type": "code",
   "execution_count": null,
   "id": "4ef1a88f-3844-43f5-b51a-c30afdd29525",
   "metadata": {},
   "outputs": [],
   "source": [
    "print(\"Length of numerical_cols:\", len(numerical_cols))"
   ]
  },
  {
   "cell_type": "code",
   "execution_count": null,
   "id": "ede13e13-40f2-4188-9fe5-885d73f411db",
   "metadata": {},
   "outputs": [],
   "source": [
    "for col in numerical_cols:\n",
    "    if df[col].isnull().all():\n",
    "        print(f\"Column '{col}' is completely NaN.\")"
   ]
  },
  {
   "cell_type": "code",
   "execution_count": null,
   "id": "91e8a7f7-018c-4946-a6fe-cddff9a27f81",
   "metadata": {},
   "outputs": [],
   "source": [
    "df = df.dropna(axis=1, how='all')\n",
    "numerical_cols = [col for col in numerical_cols if col in df.columns]  # Update the list of numerical columns"
   ]
  },
  {
   "cell_type": "code",
   "execution_count": null,
   "id": "975a15ae-d6b6-4490-a8ee-2a2b0de7970c",
   "metadata": {},
   "outputs": [],
   "source": [
    "numerical_imputer = SimpleImputer(strategy='median')  # or 'mean'\n",
    "imputed_values = numerical_imputer.fit_transform(df[numerical_cols])\n",
    "\n",
    "# Check the shape of the imputed values\n",
    "print(\"Shape of imputed values:\", imputed_values.shape)\n",
    "\n",
    "# Assign the imputed values back to the DataFrame\n",
    "df[numerical_cols] = imputed_values"
   ]
  },
  {
   "cell_type": "code",
   "execution_count": null,
   "id": "7861b01b-d3c0-405a-ad55-5885fa227155",
   "metadata": {},
   "outputs": [],
   "source": [
    "numerical_imputer = SimpleImputer(strategy='median')  # or 'mean'\n",
    "imputed_values = numerical_imputer.fit_transform(df[numerical_cols])\n",
    "\n",
    "# Check the shape of the imputed values\n",
    "print(\"Shape of imputed values:\", imputed_values.shape)\n",
    "\n",
    "# Assign the imputed values back to the DataFrame\n",
    "df[numerical_cols] = imputed_values"
   ]
  },
  {
   "cell_type": "code",
   "execution_count": null,
   "id": "b6d3bebb-0157-4624-b811-538f0b00271b",
   "metadata": {},
   "outputs": [],
   "source": [
    "categorical_cols = ['body type', 'rented for']\n",
    "categorical_imputer = SimpleImputer(strategy='most_frequent')  # or 'constant', fill_value='Unknown'\n",
    "df[categorical_cols] = categorical_imputer.fit_transform(df[categorical_cols])"
   ]
  },
  {
   "cell_type": "code",
   "execution_count": null,
   "id": "f8657b87-cb95-4ca2-ba04-486e6ad8d856",
   "metadata": {},
   "outputs": [],
   "source": [
    "missing_values_after_imputation = df.isnull().mean() * 100\n",
    "print(missing_values_after_imputation)"
   ]
  },
  {
   "cell_type": "markdown",
   "id": "738cf3de-cfb0-4659-9893-17a3d7865231",
   "metadata": {},
   "source": [
    "### 9. Check the statistical summary for the numerical and categorical columns and write your findings."
   ]
  },
  {
   "cell_type": "code",
   "execution_count": null,
   "id": "eb83d3f2-c9b1-4316-8730-a0563e00aaeb",
   "metadata": {},
   "outputs": [],
   "source": [
    "df.describe()"
   ]
  },
  {
   "cell_type": "code",
   "execution_count": null,
   "id": "06bceb9e-7df6-451d-b4e9-95cd6dea028f",
   "metadata": {},
   "outputs": [],
   "source": [
    "df.describe(include='O')"
   ]
  },
  {
   "cell_type": "code",
   "execution_count": null,
   "id": "3da95158-e2b7-4430-83cd-29f04589950c",
   "metadata": {},
   "outputs": [],
   "source": []
  },
  {
   "cell_type": "markdown",
   "id": "fb06114b-c52c-4ef6-a6a4-99255dbf48ad",
   "metadata": {},
   "source": [
    "###  10. Are there outliers present in the column age? If yes, treat them with the appropriate method. "
   ]
  },
  {
   "cell_type": "code",
   "execution_count": null,
   "id": "519bd734-b9bc-4b51-951d-ec9bd9bbee65",
   "metadata": {},
   "outputs": [],
   "source": [
    "import pandas as pd\n",
    "import numpy as np\n",
    "from scipy import stats\n",
    "\n",
    "# Load your dataset\n",
    "# df = pd.read_csv('your_dataset.csv')  # Uncomment and modify this line to load your dataset\n",
    "\n",
    "# Calculate Z-scores for the 'age' column\n",
    "z = np.abs(stats.zscore(df['age']))\n",
    "\n",
    "# Define a threshold for identifying outliers\n",
    "threshold = 2\n",
    "\n",
    "# Identify outliers\n",
    "outlier_indices = np.where(z > threshold)[0]\n",
    "\n",
    "# Remove outliers\n",
    "df_no_outliers = df.drop(outlier_indices)\n",
    "\n",
    "# Display the shapes of the original and new DataFrames\n",
    "print(\"Original DataFrame Shape:\", df.shape)\n",
    "print(\"DataFrame Shape after Removing Outliers:\", df_no_outliers.shape)"
   ]
  },
  {
   "cell_type": "markdown",
   "id": "4e984615-563e-47b6-8761-5a50e87ada8e",
   "metadata": {},
   "source": [
    "### 11. Check the distribution of the different categories in the column 'rented for' using appropriate plot. "
   ]
  },
  {
   "cell_type": "code",
   "execution_count": null,
   "id": "4fefcbb0-ca54-4c6a-81b5-43d1901d35ab",
   "metadata": {},
   "outputs": [],
   "source": [
    "## Let's check the count of target variable\n",
    "df['rented for'].value_counts().plot(kind='pie',autopct='%1.0f%%')\n",
    "plt.show()"
   ]
  },
  {
   "cell_type": "code",
   "execution_count": null,
   "id": "08ff4a47-6a39-4a62-9f2d-f631c6e94ec3",
   "metadata": {},
   "outputs": [],
   "source": [
    "df['rented for'] = df['rented for'].replace(['wedding', 'party', 'vacation'],'Informal-events')\n",
    "df['rented for'] = df['rented for'].replace(['everyday', 'work', 'formal affair', 'date', 'other'],'Formal-events')"
   ]
  },
  {
   "cell_type": "code",
   "execution_count": null,
   "id": "1a9b7ee6-e7c8-4dc5-8a6a-63cb692ca969",
   "metadata": {},
   "outputs": [],
   "source": [
    "## recheck after grouping the categories.\n",
    "df['rented for'].value_counts()"
   ]
  },
  {
   "cell_type": "code",
   "execution_count": null,
   "id": "c0fb385d-246c-4604-bf9e-661e01aad877",
   "metadata": {},
   "outputs": [],
   "source": []
  },
  {
   "cell_type": "markdown",
   "id": "cfd703f4-c9cf-470d-9240-8b6543f9920b",
   "metadata": {},
   "source": [
    "##  Data Preparation for model building: "
   ]
  },
  {
   "cell_type": "markdown",
   "id": "ad13f2ac-1aa8-4b48-aafc-41ad4fdb0d24",
   "metadata": {},
   "source": [
    "###  12. Encode the categorical variables in the dataset. "
   ]
  },
  {
   "cell_type": "code",
   "execution_count": 388,
   "id": "e54c8847-6f99-4e9d-bd69-38f059022b51",
   "metadata": {},
   "outputs": [
    {
     "name": "stdout",
     "output_type": "stream",
     "text": [
      "Categorical Variables: [0]\n"
     ]
    }
   ],
   "source": [
    "df = pd.DataFrame(data)\n",
    "\n",
    "# Select categorical variables\n",
    "categorical_vars = df.select_dtypes(include=['object', 'category']).columns.tolist()\n",
    "\n",
    "print(\"Categorical Variables:\", categorical_vars)"
   ]
  },
  {
   "cell_type": "code",
   "execution_count": 396,
   "id": "012fc09a-3402-4348-8b9e-861898a59043",
   "metadata": {},
   "outputs": [
    {
     "name": "stdout",
     "output_type": "stream",
     "text": [
      "   rented for  body type\n",
      "0           1          2\n",
      "1           0          0\n",
      "2           1          1\n"
     ]
    }
   ],
   "source": [
    "import pandas as pd\n",
    "from sklearn.preprocessing import LabelEncoder\n",
    "\n",
    "# Assuming your DataFrame is called 'df'\n",
    "df = pd.DataFrame({'rented for': ['yes', 'no', 'yes'], 'body type': ['sedan', 'SUV', 'hatchback']})\n",
    "\n",
    "# List of categorical columns to encode\n",
    "categorical_cols = ['rented for', 'body type']\n",
    "\n",
    "# Create a LabelEncoder instance\n",
    "le = LabelEncoder()\n",
    "\n",
    "# Encode the categorical columns\n",
    "for col in categorical_cols:\n",
    "    df[col] = le.fit_transform(df[col])\n",
    "\n",
    "print(df)"
   ]
  },
  {
   "cell_type": "markdown",
   "id": "55fe27d7-4da7-46aa-a898-c025fd7c7e78",
   "metadata": {},
   "source": [
    "###  13. Standardize the data, so that the values are within a particular range. "
   ]
  },
  {
   "cell_type": "code",
   "execution_count": 398,
   "id": "190c7741-d582-4c66-9a31-8e55cf5b89e2",
   "metadata": {},
   "outputs": [],
   "source": [
    "## Standardization\n",
    "df1 = df.copy()\n",
    "scaled_features = StandardScaler().fit_transform(df1.values)\n",
    "scaled_features_df = pd.DataFrame(scaled_features, index=df1.index, columns=df1.columns)"
   ]
  },
  {
   "cell_type": "code",
   "execution_count": 400,
   "id": "f44ab853-fcb8-44a1-84f7-be25eb94985c",
   "metadata": {},
   "outputs": [
    {
     "data": {
      "text/html": [
       "<div>\n",
       "<style scoped>\n",
       "    .dataframe tbody tr th:only-of-type {\n",
       "        vertical-align: middle;\n",
       "    }\n",
       "\n",
       "    .dataframe tbody tr th {\n",
       "        vertical-align: top;\n",
       "    }\n",
       "\n",
       "    .dataframe thead th {\n",
       "        text-align: right;\n",
       "    }\n",
       "</style>\n",
       "<table border=\"1\" class=\"dataframe\">\n",
       "  <thead>\n",
       "    <tr style=\"text-align: right;\">\n",
       "      <th></th>\n",
       "      <th>rented for</th>\n",
       "      <th>body type</th>\n",
       "    </tr>\n",
       "  </thead>\n",
       "  <tbody>\n",
       "    <tr>\n",
       "      <th>0</th>\n",
       "      <td>0.707107</td>\n",
       "      <td>1.224745</td>\n",
       "    </tr>\n",
       "    <tr>\n",
       "      <th>1</th>\n",
       "      <td>-1.414214</td>\n",
       "      <td>-1.224745</td>\n",
       "    </tr>\n",
       "    <tr>\n",
       "      <th>2</th>\n",
       "      <td>0.707107</td>\n",
       "      <td>0.000000</td>\n",
       "    </tr>\n",
       "  </tbody>\n",
       "</table>\n",
       "</div>"
      ],
      "text/plain": [
       "   rented for  body type\n",
       "0    0.707107   1.224745\n",
       "1   -1.414214  -1.224745\n",
       "2    0.707107   0.000000"
      ]
     },
     "execution_count": 400,
     "metadata": {},
     "output_type": "execute_result"
    }
   ],
   "source": [
    "scaled_features_df.head(3)"
   ]
  },
  {
   "cell_type": "markdown",
   "id": "0ffdce00-3e16-4cda-8b9a-a5b40b619097",
   "metadata": {},
   "source": [
    "## Principal Component Analysis and Clustering: "
   ]
  },
  {
   "cell_type": "markdown",
   "id": "852e75fc-0000-471a-b02d-155acc40b4fd",
   "metadata": {},
   "source": [
    "### 14. Apply PCA on the above dataset and determine the number of PCA components to be used so that 90-95% of the variance in data is explained by the same. "
   ]
  },
  {
   "cell_type": "code",
   "execution_count": 402,
   "id": "a8bf4a3d-6b3f-4b6e-8310-5b6cc33b02c4",
   "metadata": {},
   "outputs": [
    {
     "data": {
      "text/plain": [
       "array([[1.5       , 1.29903811],\n",
       "       [1.29903811, 1.5       ]])"
      ]
     },
     "execution_count": 402,
     "metadata": {},
     "output_type": "execute_result"
    }
   ],
   "source": [
    "## step1: Calculate the covariance matrix.\n",
    "cov_matrix = np.cov(scaled_features.T)\n",
    "cov_matrix"
   ]
  },
  {
   "cell_type": "code",
   "execution_count": 404,
   "id": "630d44d8-d1a7-49ee-b5d4-3c82c2e2f0d5",
   "metadata": {},
   "outputs": [
    {
     "name": "stdout",
     "output_type": "stream",
     "text": [
      "eigein vals: \n",
      " [2.79903811 0.20096189]\n",
      "\n",
      "\n",
      "eigein vectors \n",
      " [[ 0.70710678 -0.70710678]\n",
      " [ 0.70710678  0.70710678]]\n"
     ]
    }
   ],
   "source": [
    "## step2: Calculate the eigen values and eigen vectors.\n",
    "eig_vals, eig_vectors = np.linalg.eig(cov_matrix)\n",
    "print('eigein vals:','\\n',eig_vals)\n",
    "print('\\n')\n",
    "print('eigein vectors','\\n',eig_vectors)"
   ]
  },
  {
   "cell_type": "code",
   "execution_count": 406,
   "id": "039b5b55-42e9-4556-b715-9d690223f7a0",
   "metadata": {},
   "outputs": [
    {
     "name": "stdout",
     "output_type": "stream",
     "text": [
      "Explained Variance:  [93.30127018922192, 6.698729810778067]\n",
      "Cummulative Variance Explained:  [ 93.30127019 100.        ]\n"
     ]
    }
   ],
   "source": [
    "## step3: Scree plot.\n",
    "total = sum(eig_vals)\n",
    "var_exp = [(i/total)*100 for i in sorted(eig_vals,reverse=True)]\n",
    "cum_var_exp = np.cumsum(var_exp)\n",
    "print('Explained Variance: ',var_exp)\n",
    "print('Cummulative Variance Explained: ',cum_var_exp)"
   ]
  },
  {
   "cell_type": "code",
   "execution_count": 426,
   "id": "525188b8-ab35-4ba8-a78e-6488d9de362f",
   "metadata": {},
   "outputs": [
    {
     "data": {
      "image/png": "[encoded data removed]",
      "text/plain": [
       "<Figure size 800x500 with 1 Axes>"
      ]
     },
     "metadata": {},
     "output_type": "display_data"
    }
   ],
   "source": [
    "import matplotlib.pyplot as plt\n",
    "\n",
    "# Assuming var_exp and cum_var_exp are as provided in the image:\n",
    "var_exp = [93.30127018922192, 6.698729810778067]\n",
    "cum_var_exp = [93.30127019, 100.]\n",
    "\n",
    "# Create the scree plot\n",
    "plt.figure(figsize=(8, 5))\n",
    "plt.bar(range(1, len(var_exp) + 1), var_exp, align='center', color='lightblue', label='Explained Variance')\n",
    "plt.step(range(1, len(var_exp) + 1), cum_var_exp, where='mid', color='red', label='Cumulative Explained Variance')\n",
    "plt.xlabel('Principal Component')\n",
    "plt.ylabel('Explained Variance Ratio')\n",
    "plt.title('Scree Plot')\n",
    "plt.legend(loc='best')\n",
    "plt.xticks(range(1, len(var_exp) + 1))\n",
    "plt.grid(axis='y')\n",
    "plt.show()"
   ]
  },
  {
   "cell_type": "markdown",
   "id": "968dd4f3-e8d7-4eb9-a9cd-21dcbcf3b928",
   "metadata": {},
   "source": [
    "#### The scree plot shows that the first principal component explains most of the variance, with diminishing returns from subsequent components."
   ]
  },
  {
   "cell_type": "markdown",
   "id": "07e0dddf-af4a-4fda-93a1-8649a24d9a0f",
   "metadata": {},
   "source": [
    "###  15. Apply K-means clustering and segment the data. (You may use original data or PCA transformed data) "
   ]
  },
  {
   "cell_type": "markdown",
   "id": "34db25c8-a37f-4863-b995-df52ad761bb9",
   "metadata": {},
   "source": [
    "###  a. Find the optimal K Value using elbow plot for K Means clustering"
   ]
  },
  {
   "cell_type": "code",
   "execution_count": 435,
   "id": "dd447389-157a-438f-a116-f7da33b9b524",
   "metadata": {},
   "outputs": [],
   "source": [
    "# Assuming you have a DataFrame 'df' with your data\n",
    "\n",
    "# Scale the data\n",
    "from sklearn.preprocessing import StandardScaler\n",
    "scaler = StandardScaler()\n",
    "scaled_features_df = scaler.fit_transform(df)\n",
    "\n",
    "# Apply PCA with reduced components (or adjust n_components as needed)\n",
    "from sklearn.decomposition import PCA\n",
    "pca = PCA(n_components=1)  # Adjust n_components if necessary\n",
    "pca_df = pd.DataFrame(pca.fit_transform(scaled_features_df), columns=['PC1'])\n",
    "\n",
    "# Apply K-Means Clustering (rest of the code remains the same)"
   ]
  },
  {
   "cell_type": "code",
   "execution_count": 441,
   "id": "d32fbb83-dc26-4019-9879-843ed0ab4094",
   "metadata": {},
   "outputs": [
    {
     "data": {
      "image/png": "[encoded data removed]",
      "text/plain": [
       "<Figure size 640x480 with 1 Axes>"
      ]
     },
     "metadata": {},
     "output_type": "display_data"
    }
   ],
   "source": [
    "from sklearn.cluster import KMeans\n",
    "import matplotlib.pyplot as plt\n",
    "\n",
    "# Assuming pca_df has 3 data points (adjust the maximum clusters accordingly)\n",
    "wcss = []\n",
    "for i in range(1, 4):  # Maximum of 3 clusters\n",
    "    kmeans = KMeans(n_clusters=i, init='k-means++', random_state=42)\n",
    "    kmeans.fit(pca_df)\n",
    "    wcss.append(kmeans.inertia_)\n",
    "\n",
    "plt.plot(range(1, 4), wcss)\n",
    "plt.title('Elbow Method')\n",
    "plt.xlabel('Number of clusters')\n",
    "plt.ylabel('WCSS')\n",
    "plt.show()"
   ]
  },
  {
   "cell_type": "markdown",
   "id": "ea9f4e9d-20c9-4aaa-8912-b4ac485eaa35",
   "metadata": {},
   "source": [
    "#### The elbow plot shows that the optimal number of clusters for this dataset is 2. This is because the WCSS (Within-Cluster Sum of Squares) decreases significantly from 1 to 2 clusters, but the decrease becomes less pronounced after 2 clusters. This indicates that adding more clusters beyond 2 does not significantly improve the clustering quality."
   ]
  },
  {
   "cell_type": "code",
   "execution_count": 447,
   "id": "26727317-2524-4012-977e-f1e605595813",
   "metadata": {},
   "outputs": [
    {
     "data": {
      "text/html": [
       "<style>#sk-container-id-1 {\n",
       "  /* Definition of color scheme common for light and dark mode */\n",
       "  --sklearn-color-text: black;\n",
       "  --sklearn-color-line: gray;\n",
       "  /* Definition of color scheme for unfitted estimators */\n",
       "  --sklearn-color-unfitted-level-0: #fff5e6;\n",
       "  --sklearn-color-unfitted-level-1: #f6e4d2;\n",
       "  --sklearn-color-unfitted-level-2: #ffe0b3;\n",
       "  --sklearn-color-unfitted-level-3: chocolate;\n",
       "  /* Definition of color scheme for fitted estimators */\n",
       "  --sklearn-color-fitted-level-0: #f0f8ff;\n",
       "  --sklearn-color-fitted-level-1: #d4ebff;\n",
       "  --sklearn-color-fitted-level-2: #b3dbfd;\n",
       "  --sklearn-color-fitted-level-3: cornflowerblue;\n",
       "\n",
       "  /* Specific color for light theme */\n",
       "  --sklearn-color-text-on-default-background: var(--sg-text-color, var(--theme-code-foreground, var(--jp-content-font-color1, black)));\n",
       "  --sklearn-color-background: var(--sg-background-color, var(--theme-background, var(--jp-layout-color0, white)));\n",
       "  --sklearn-color-border-box: var(--sg-text-color, var(--theme-code-foreground, var(--jp-content-font-color1, black)));\n",
       "  --sklearn-color-icon: #696969;\n",
       "\n",
       "  @media (prefers-color-scheme: dark) {\n",
       "    /* Redefinition of color scheme for dark theme */\n",
       "    --sklearn-color-text-on-default-background: var(--sg-text-color, var(--theme-code-foreground, var(--jp-content-font-color1, white)));\n",
       "    --sklearn-color-background: var(--sg-background-color, var(--theme-background, var(--jp-layout-color0, #111)));\n",
       "    --sklearn-color-border-box: var(--sg-text-color, var(--theme-code-foreground, var(--jp-content-font-color1, white)));\n",
       "    --sklearn-color-icon: #878787;\n",
       "  }\n",
       "}\n",
       "\n",
       "#sk-container-id-1 {\n",
       "  color: var(--sklearn-color-text);\n",
       "}\n",
       "\n",
       "#sk-container-id-1 pre {\n",
       "  padding: 0;\n",
       "}\n",
       "\n",
       "#sk-container-id-1 input.sk-hidden--visually {\n",
       "  border: 0;\n",
       "  clip: rect(1px 1px 1px 1px);\n",
       "  clip: rect(1px, 1px, 1px, 1px);\n",
       "  height: 1px;\n",
       "  margin: -1px;\n",
       "  overflow: hidden;\n",
       "  padding: 0;\n",
       "  position: absolute;\n",
       "  width: 1px;\n",
       "}\n",
       "\n",
       "#sk-container-id-1 div.sk-dashed-wrapped {\n",
       "  border: 1px dashed var(--sklearn-color-line);\n",
       "  margin: 0 0.4em 0.5em 0.4em;\n",
       "  box-sizing: border-box;\n",
       "  padding-bottom: 0.4em;\n",
       "  background-color: var(--sklearn-color-background);\n",
       "}\n",
       "\n",
       "#sk-container-id-1 div.sk-container {\n",
       "  /* jupyter's `normalize.less` sets `[hidden] { display: none; }`\n",
       "     but bootstrap.min.css set `[hidden] { display: none !important; }`\n",
       "     so we also need the `!important` here to be able to override the\n",
       "     default hidden behavior on the sphinx rendered scikit-learn.org.\n",
       "     See: https://github.com/scikit-learn/scikit-learn/issues/21755 */\n",
       "  display: inline-block !important;\n",
       "  position: relative;\n",
       "}\n",
       "\n",
       "#sk-container-id-1 div.sk-text-repr-fallback {\n",
       "  display: none;\n",
       "}\n",
       "\n",
       "div.sk-parallel-item,\n",
       "div.sk-serial,\n",
       "div.sk-item {\n",
       "  /* draw centered vertical line to link estimators */\n",
       "  background-image: linear-gradient(var(--sklearn-color-text-on-default-background), var(--sklearn-color-text-on-default-background));\n",
       "  background-size: 2px 100%;\n",
       "  background-repeat: no-repeat;\n",
       "  background-position: center center;\n",
       "}\n",
       "\n",
       "/* Parallel-specific style estimator block */\n",
       "\n",
       "#sk-container-id-1 div.sk-parallel-item::after {\n",
       "  content: \"\";\n",
       "  width: 100%;\n",
       "  border-bottom: 2px solid var(--sklearn-color-text-on-default-background);\n",
       "  flex-grow: 1;\n",
       "}\n",
       "\n",
       "#sk-container-id-1 div.sk-parallel {\n",
       "  display: flex;\n",
       "  align-items: stretch;\n",
       "  justify-content: center;\n",
       "  background-color: var(--sklearn-color-background);\n",
       "  position: relative;\n",
       "}\n",
       "\n",
       "#sk-container-id-1 div.sk-parallel-item {\n",
       "  display: flex;\n",
       "  flex-direction: column;\n",
       "}\n",
       "\n",
       "#sk-container-id-1 div.sk-parallel-item:first-child::after {\n",
       "  align-self: flex-end;\n",
       "  width: 50%;\n",
       "}\n",
       "\n",
       "#sk-container-id-1 div.sk-parallel-item:last-child::after {\n",
       "  align-self: flex-start;\n",
       "  width: 50%;\n",
       "}\n",
       "\n",
       "#sk-container-id-1 div.sk-parallel-item:only-child::after {\n",
       "  width: 0;\n",
       "}\n",
       "\n",
       "/* Serial-specific style estimator block */\n",
       "\n",
       "#sk-container-id-1 div.sk-serial {\n",
       "  display: flex;\n",
       "  flex-direction: column;\n",
       "  align-items: center;\n",
       "  background-color: var(--sklearn-color-background);\n",
       "  padding-right: 1em;\n",
       "  padding-left: 1em;\n",
       "}\n",
       "\n",
       "\n",
       "/* Toggleable style: style used for estimator/Pipeline/ColumnTransformer box that is\n",
       "clickable and can be expanded/collapsed.\n",
       "- Pipeline and ColumnTransformer use this feature and define the default style\n",
       "- Estimators will overwrite some part of the style using the `sk-estimator` class\n",
       "*/\n",
       "\n",
       "/* Pipeline and ColumnTransformer style (default) */\n",
       "\n",
       "#sk-container-id-1 div.sk-toggleable {\n",
       "  /* Default theme specific background. It is overwritten whether we have a\n",
       "  specific estimator or a Pipeline/ColumnTransformer */\n",
       "  background-color: var(--sklearn-color-background);\n",
       "}\n",
       "\n",
       "/* Toggleable label */\n",
       "#sk-container-id-1 label.sk-toggleable__label {\n",
       "  cursor: pointer;\n",
       "  display: block;\n",
       "  width: 100%;\n",
       "  margin-bottom: 0;\n",
       "  padding: 0.5em;\n",
       "  box-sizing: border-box;\n",
       "  text-align: center;\n",
       "}\n",
       "\n",
       "#sk-container-id-1 label.sk-toggleable__label-arrow:before {\n",
       "  /* Arrow on the left of the label */\n",
       "  content: \"▸\";\n",
       "  float: left;\n",
       "  margin-right: 0.25em;\n",
       "  color: var(--sklearn-color-icon);\n",
       "}\n",
       "\n",
       "#sk-container-id-1 label.sk-toggleable__label-arrow:hover:before {\n",
       "  color: var(--sklearn-color-text);\n",
       "}\n",
       "\n",
       "/* Toggleable content - dropdown */\n",
       "\n",
       "#sk-container-id-1 div.sk-toggleable__content {\n",
       "  max-height: 0;\n",
       "  max-width: 0;\n",
       "  overflow: hidden;\n",
       "  text-align: left;\n",
       "  /* unfitted */\n",
       "  background-color: var(--sklearn-color-unfitted-level-0);\n",
       "}\n",
       "\n",
       "#sk-container-id-1 div.sk-toggleable__content.fitted {\n",
       "  /* fitted */\n",
       "  background-color: var(--sklearn-color-fitted-level-0);\n",
       "}\n",
       "\n",
       "#sk-container-id-1 div.sk-toggleable__content pre {\n",
       "  margin: 0.2em;\n",
       "  border-radius: 0.25em;\n",
       "  color: var(--sklearn-color-text);\n",
       "  /* unfitted */\n",
       "  background-color: var(--sklearn-color-unfitted-level-0);\n",
       "}\n",
       "\n",
       "#sk-container-id-1 div.sk-toggleable__content.fitted pre {\n",
       "  /* unfitted */\n",
       "  background-color: var(--sklearn-color-fitted-level-0);\n",
       "}\n",
       "\n",
       "#sk-container-id-1 input.sk-toggleable__control:checked~div.sk-toggleable__content {\n",
       "  /* Expand drop-down */\n",
       "  max-height: 200px;\n",
       "  max-width: 100%;\n",
       "  overflow: auto;\n",
       "}\n",
       "\n",
       "#sk-container-id-1 input.sk-toggleable__control:checked~label.sk-toggleable__label-arrow:before {\n",
       "  content: \"▾\";\n",
       "}\n",
       "\n",
       "/* Pipeline/ColumnTransformer-specific style */\n",
       "\n",
       "#sk-container-id-1 div.sk-label input.sk-toggleable__control:checked~label.sk-toggleable__label {\n",
       "  color: var(--sklearn-color-text);\n",
       "  background-color: var(--sklearn-color-unfitted-level-2);\n",
       "}\n",
       "\n",
       "#sk-container-id-1 div.sk-label.fitted input.sk-toggleable__control:checked~label.sk-toggleable__label {\n",
       "  background-color: var(--sklearn-color-fitted-level-2);\n",
       "}\n",
       "\n",
       "/* Estimator-specific style */\n",
       "\n",
       "/* Colorize estimator box */\n",
       "#sk-container-id-1 div.sk-estimator input.sk-toggleable__control:checked~label.sk-toggleable__label {\n",
       "  /* unfitted */\n",
       "  background-color: var(--sklearn-color-unfitted-level-2);\n",
       "}\n",
       "\n",
       "#sk-container-id-1 div.sk-estimator.fitted input.sk-toggleable__control:checked~label.sk-toggleable__label {\n",
       "  /* fitted */\n",
       "  background-color: var(--sklearn-color-fitted-level-2);\n",
       "}\n",
       "\n",
       "#sk-container-id-1 div.sk-label label.sk-toggleable__label,\n",
       "#sk-container-id-1 div.sk-label label {\n",
       "  /* The background is the default theme color */\n",
       "  color: var(--sklearn-color-text-on-default-background);\n",
       "}\n",
       "\n",
       "/* On hover, darken the color of the background */\n",
       "#sk-container-id-1 div.sk-label:hover label.sk-toggleable__label {\n",
       "  color: var(--sklearn-color-text);\n",
       "  background-color: var(--sklearn-color-unfitted-level-2);\n",
       "}\n",
       "\n",
       "/* Label box, darken color on hover, fitted */\n",
       "#sk-container-id-1 div.sk-label.fitted:hover label.sk-toggleable__label.fitted {\n",
       "  color: var(--sklearn-color-text);\n",
       "  background-color: var(--sklearn-color-fitted-level-2);\n",
       "}\n",
       "\n",
       "/* Estimator label */\n",
       "\n",
       "#sk-container-id-1 div.sk-label label {\n",
       "  font-family: monospace;\n",
       "  font-weight: bold;\n",
       "  display: inline-block;\n",
       "  line-height: 1.2em;\n",
       "}\n",
       "\n",
       "#sk-container-id-1 div.sk-label-container {\n",
       "  text-align: center;\n",
       "}\n",
       "\n",
       "/* Estimator-specific */\n",
       "#sk-container-id-1 div.sk-estimator {\n",
       "  font-family: monospace;\n",
       "  border: 1px dotted var(--sklearn-color-border-box);\n",
       "  border-radius: 0.25em;\n",
       "  box-sizing: border-box;\n",
       "  margin-bottom: 0.5em;\n",
       "  /* unfitted */\n",
       "  background-color: var(--sklearn-color-unfitted-level-0);\n",
       "}\n",
       "\n",
       "#sk-container-id-1 div.sk-estimator.fitted {\n",
       "  /* fitted */\n",
       "  background-color: var(--sklearn-color-fitted-level-0);\n",
       "}\n",
       "\n",
       "/* on hover */\n",
       "#sk-container-id-1 div.sk-estimator:hover {\n",
       "  /* unfitted */\n",
       "  background-color: var(--sklearn-color-unfitted-level-2);\n",
       "}\n",
       "\n",
       "#sk-container-id-1 div.sk-estimator.fitted:hover {\n",
       "  /* fitted */\n",
       "  background-color: var(--sklearn-color-fitted-level-2);\n",
       "}\n",
       "\n",
       "/* Specification for estimator info (e.g. \"i\" and \"?\") */\n",
       "\n",
       "/* Common style for \"i\" and \"?\" */\n",
       "\n",
       ".sk-estimator-doc-link,\n",
       "a:link.sk-estimator-doc-link,\n",
       "a:visited.sk-estimator-doc-link {\n",
       "  float: right;\n",
       "  font-size: smaller;\n",
       "  line-height: 1em;\n",
       "  font-family: monospace;\n",
       "  background-color: var(--sklearn-color-background);\n",
       "  border-radius: 1em;\n",
       "  height: 1em;\n",
       "  width: 1em;\n",
       "  text-decoration: none !important;\n",
       "  margin-left: 1ex;\n",
       "  /* unfitted */\n",
       "  border: var(--sklearn-color-unfitted-level-1) 1pt solid;\n",
       "  color: var(--sklearn-color-unfitted-level-1);\n",
       "}\n",
       "\n",
       ".sk-estimator-doc-link.fitted,\n",
       "a:link.sk-estimator-doc-link.fitted,\n",
       "a:visited.sk-estimator-doc-link.fitted {\n",
       "  /* fitted */\n",
       "  border: var(--sklearn-color-fitted-level-1) 1pt solid;\n",
       "  color: var(--sklearn-color-fitted-level-1);\n",
       "}\n",
       "\n",
       "/* On hover */\n",
       "div.sk-estimator:hover .sk-estimator-doc-link:hover,\n",
       ".sk-estimator-doc-link:hover,\n",
       "div.sk-label-container:hover .sk-estimator-doc-link:hover,\n",
       ".sk-estimator-doc-link:hover {\n",
       "  /* unfitted */\n",
       "  background-color: var(--sklearn-color-unfitted-level-3);\n",
       "  color: var(--sklearn-color-background);\n",
       "  text-decoration: none;\n",
       "}\n",
       "\n",
       "div.sk-estimator.fitted:hover .sk-estimator-doc-link.fitted:hover,\n",
       ".sk-estimator-doc-link.fitted:hover,\n",
       "div.sk-label-container:hover .sk-estimator-doc-link.fitted:hover,\n",
       ".sk-estimator-doc-link.fitted:hover {\n",
       "  /* fitted */\n",
       "  background-color: var(--sklearn-color-fitted-level-3);\n",
       "  color: var(--sklearn-color-background);\n",
       "  text-decoration: none;\n",
       "}\n",
       "\n",
       "/* Span, style for the box shown on hovering the info icon */\n",
       ".sk-estimator-doc-link span {\n",
       "  display: none;\n",
       "  z-index: 9999;\n",
       "  position: relative;\n",
       "  font-weight: normal;\n",
       "  right: .2ex;\n",
       "  padding: .5ex;\n",
       "  margin: .5ex;\n",
       "  width: min-content;\n",
       "  min-width: 20ex;\n",
       "  max-width: 50ex;\n",
       "  color: var(--sklearn-color-text);\n",
       "  box-shadow: 2pt 2pt 4pt #999;\n",
       "  /* unfitted */\n",
       "  background: var(--sklearn-color-unfitted-level-0);\n",
       "  border: .5pt solid var(--sklearn-color-unfitted-level-3);\n",
       "}\n",
       "\n",
       ".sk-estimator-doc-link.fitted span {\n",
       "  /* fitted */\n",
       "  background: var(--sklearn-color-fitted-level-0);\n",
       "  border: var(--sklearn-color-fitted-level-3);\n",
       "}\n",
       "\n",
       ".sk-estimator-doc-link:hover span {\n",
       "  display: block;\n",
       "}\n",
       "\n",
       "/* \"?\"-specific style due to the `<a>` HTML tag */\n",
       "\n",
       "#sk-container-id-1 a.estimator_doc_link {\n",
       "  float: right;\n",
       "  font-size: 1rem;\n",
       "  line-height: 1em;\n",
       "  font-family: monospace;\n",
       "  background-color: var(--sklearn-color-background);\n",
       "  border-radius: 1rem;\n",
       "  height: 1rem;\n",
       "  width: 1rem;\n",
       "  text-decoration: none;\n",
       "  /* unfitted */\n",
       "  color: var(--sklearn-color-unfitted-level-1);\n",
       "  border: var(--sklearn-color-unfitted-level-1) 1pt solid;\n",
       "}\n",
       "\n",
       "#sk-container-id-1 a.estimator_doc_link.fitted {\n",
       "  /* fitted */\n",
       "  border: var(--sklearn-color-fitted-level-1) 1pt solid;\n",
       "  color: var(--sklearn-color-fitted-level-1);\n",
       "}\n",
       "\n",
       "/* On hover */\n",
       "#sk-container-id-1 a.estimator_doc_link:hover {\n",
       "  /* unfitted */\n",
       "  background-color: var(--sklearn-color-unfitted-level-3);\n",
       "  color: var(--sklearn-color-background);\n",
       "  text-decoration: none;\n",
       "}\n",
       "\n",
       "#sk-container-id-1 a.estimator_doc_link.fitted:hover {\n",
       "  /* fitted */\n",
       "  background-color: var(--sklearn-color-fitted-level-3);\n",
       "}\n",
       "</style><div id=\"sk-container-id-1\" class=\"sk-top-container\"><div class=\"sk-text-repr-fallback\"><pre>KMeans(n_clusters=3, random_state=100)</pre><b>In a Jupyter environment, please rerun this cell to show the HTML representation or trust the notebook. <br />On GitHub, the HTML representation is unable to render, please try loading this page with nbviewer.org.</b></div><div class=\"sk-container\" hidden><div class=\"sk-item\"><div class=\"sk-estimator fitted sk-toggleable\"><input class=\"sk-toggleable__control sk-hidden--visually\" id=\"sk-estimator-id-1\" type=\"checkbox\" checked><label for=\"sk-estimator-id-1\" class=\"sk-toggleable__label fitted sk-toggleable__label-arrow fitted\">&nbsp;&nbsp;KMeans<a class=\"sk-estimator-doc-link fitted\" rel=\"noreferrer\" target=\"_blank\" href=\"https://scikit-learn.org/1.4/modules/generated/sklearn.cluster.KMeans.html\">?<span>Documentation for KMeans</span></a><span class=\"sk-estimator-doc-link fitted\">i<span>Fitted</span></span></label><div class=\"sk-toggleable__content fitted\"><pre>KMeans(n_clusters=3, random_state=100)</pre></div> </div></div></div></div>"
      ],
      "text/plain": [
       "KMeans(n_clusters=3, random_state=100)"
      ]
     },
     "execution_count": 447,
     "metadata": {},
     "output_type": "execute_result"
    }
   ],
   "source": [
    "## Applying KMeans clustering for the optimal number of clusters obtained above.\n",
    "kmeans = KMeans(n_clusters=3, random_state=100)\n",
    "kmeans.fit(pca_df)"
   ]
  },
  {
   "cell_type": "code",
   "execution_count": 452,
   "id": "5d3f95e5-e574-4be7-a069-7701ecd68b5d",
   "metadata": {},
   "outputs": [],
   "source": [
    "## creating a dataframe of the labels.\n",
    "label = pd.DataFrame(kmeans.labels_,columns=['Label'])"
   ]
  },
  {
   "cell_type": "markdown",
   "id": "2ff40dd3-8be2-4bbb-bc03-69ce052981b5",
   "metadata": {},
   "source": [
    "###  b. Build a Kmeans clustering model using the obtained optimal K value from the elbow plot."
   ]
  },
  {
   "cell_type": "code",
   "execution_count": 454,
   "id": "7fd23c91-eb07-45f3-98bc-56def2e0a1b3",
   "metadata": {},
   "outputs": [
    {
     "data": {
      "text/html": [
       "<div>\n",
       "<style scoped>\n",
       "    .dataframe tbody tr th:only-of-type {\n",
       "        vertical-align: middle;\n",
       "    }\n",
       "\n",
       "    .dataframe tbody tr th {\n",
       "        vertical-align: top;\n",
       "    }\n",
       "\n",
       "    .dataframe thead th {\n",
       "        text-align: right;\n",
       "    }\n",
       "</style>\n",
       "<table border=\"1\" class=\"dataframe\">\n",
       "  <thead>\n",
       "    <tr style=\"text-align: right;\">\n",
       "      <th></th>\n",
       "      <th>PC1</th>\n",
       "      <th>Label</th>\n",
       "    </tr>\n",
       "  </thead>\n",
       "  <tbody>\n",
       "    <tr>\n",
       "      <th>0</th>\n",
       "      <td>-1.366025</td>\n",
       "      <td>1</td>\n",
       "    </tr>\n",
       "    <tr>\n",
       "      <th>1</th>\n",
       "      <td>1.866025</td>\n",
       "      <td>0</td>\n",
       "    </tr>\n",
       "    <tr>\n",
       "      <th>2</th>\n",
       "      <td>-0.500000</td>\n",
       "      <td>2</td>\n",
       "    </tr>\n",
       "  </tbody>\n",
       "</table>\n",
       "</div>"
      ],
      "text/plain": [
       "        PC1  Label\n",
       "0 -1.366025      1\n",
       "1  1.866025      0\n",
       "2 -0.500000      2"
      ]
     },
     "execution_count": 454,
     "metadata": {},
     "output_type": "execute_result"
    }
   ],
   "source": [
    "## joining the label dataframe to the pca_df dataframe.\n",
    "kmeans_df = pca_df.join(label)\n",
    "kmeans_df.head()"
   ]
  },
  {
   "cell_type": "code",
   "execution_count": 456,
   "id": "6054624c-2dd3-444a-b3d3-257ddf77ca52",
   "metadata": {},
   "outputs": [
    {
     "data": {
      "text/plain": [
       "Label\n",
       "1    1\n",
       "0    1\n",
       "2    1\n",
       "Name: count, dtype: int64"
      ]
     },
     "execution_count": 456,
     "metadata": {},
     "output_type": "execute_result"
    }
   ],
   "source": [
    "kmeans_df['Label'].value_counts()"
   ]
  },
  {
   "cell_type": "code",
   "execution_count": 460,
   "id": "7f652db1-f6ab-4c5b-ac8c-a7ef35e3c23d",
   "metadata": {},
   "outputs": [
    {
     "ename": "TypeError",
     "evalue": "scatterplot() got multiple values for argument 'data'",
     "output_type": "error",
     "traceback": [
      "\u001b[1;31m---------------------------------------------------------------------------\u001b[0m",
      "\u001b[1;31mTypeError\u001b[0m                                 Traceback (most recent call last)",
      "Cell \u001b[1;32mIn[460], line 2\u001b[0m\n\u001b[0;32m      1\u001b[0m \u001b[38;5;66;03m## visualizing the clusters formed \u001b[39;00m\n\u001b[1;32m----> 2\u001b[0m sns\u001b[38;5;241m.\u001b[39mscatterplot(kmeans_df[\u001b[38;5;124m'\u001b[39m\u001b[38;5;124mPC1\u001b[39m\u001b[38;5;124m'\u001b[39m],hue\u001b[38;5;241m=\u001b[39m\u001b[38;5;124m'\u001b[39m\u001b[38;5;124mLabel\u001b[39m\u001b[38;5;124m'\u001b[39m,data\u001b[38;5;241m=\u001b[39mkmeans_df)\n\u001b[0;32m      3\u001b[0m plt\u001b[38;5;241m.\u001b[39mshow()\n",
      "\u001b[1;31mTypeError\u001b[0m: scatterplot() got multiple values for argument 'data'"
     ]
    }
   ],
   "source": [
    "## visualizing the clusters formed \n",
    "sns.scatterplot(kmeans_df['PC1'],hue='Label',data=kmeans_df)\n",
    "plt.show()"
   ]
  },
  {
   "cell_type": "code",
   "execution_count": null,
   "id": "68e3cf44-f538-4e45-b0a2-08c6c9e2a0ef",
   "metadata": {},
   "outputs": [],
   "source": []
  },
  {
   "cell_type": "code",
   "execution_count": null,
   "id": "ebab023c-896a-4f98-9abd-8f9d5ab1d919",
   "metadata": {},
   "outputs": [],
   "source": []
  },
  {
   "cell_type": "markdown",
   "id": "3b46dccb-fa2e-4539-a437-9ffba6cb0f16",
   "metadata": {},
   "source": [
    "### c. Compute silhouette score for evaluating the quality of the K Means clustering technique."
   ]
  },
  {
   "cell_type": "markdown",
   "id": "9244da04-0e6e-4f91-9a31-97befea15162",
   "metadata": {},
   "source": []
  },
  {
   "cell_type": "code",
   "execution_count": 462,
   "id": "0b901b73-ea90-4f9a-9261-4b7718f0012b",
   "metadata": {},
   "outputs": [
    {
     "data": {
      "text/plain": [
       "array([1, 0, 2])"
      ]
     },
     "execution_count": 462,
     "metadata": {},
     "output_type": "execute_result"
    }
   ],
   "source": [
    "## obtained labels from kmeans clustering\n",
    "kmeans.labels_"
   ]
  },
  {
   "cell_type": "code",
   "execution_count": 464,
   "id": "1fc9ebfb-83d4-4148-845b-90cad292963a",
   "metadata": {},
   "outputs": [
    {
     "data": {
      "text/html": [
       "<div>\n",
       "<style scoped>\n",
       "    .dataframe tbody tr th:only-of-type {\n",
       "        vertical-align: middle;\n",
       "    }\n",
       "\n",
       "    .dataframe tbody tr th {\n",
       "        vertical-align: top;\n",
       "    }\n",
       "\n",
       "    .dataframe thead th {\n",
       "        text-align: right;\n",
       "    }\n",
       "</style>\n",
       "<table border=\"1\" class=\"dataframe\">\n",
       "  <thead>\n",
       "    <tr style=\"text-align: right;\">\n",
       "      <th></th>\n",
       "      <th>Labels</th>\n",
       "    </tr>\n",
       "  </thead>\n",
       "  <tbody>\n",
       "    <tr>\n",
       "      <th>0</th>\n",
       "      <td>1</td>\n",
       "    </tr>\n",
       "    <tr>\n",
       "      <th>1</th>\n",
       "      <td>0</td>\n",
       "    </tr>\n",
       "    <tr>\n",
       "      <th>2</th>\n",
       "      <td>2</td>\n",
       "    </tr>\n",
       "  </tbody>\n",
       "</table>\n",
       "</div>"
      ],
      "text/plain": [
       "   Labels\n",
       "0       1\n",
       "1       0\n",
       "2       2"
      ]
     },
     "execution_count": 464,
     "metadata": {},
     "output_type": "execute_result"
    }
   ],
   "source": [
    "## Creating a new dataframe only for labels.\n",
    "df_labels = pd.DataFrame(kmeans.labels_, columns=list(['Labels']))\n",
    "df_labels.head(5)"
   ]
  },
  {
   "cell_type": "code",
   "execution_count": null,
   "id": "7cdcb519-4df1-46fb-b4ce-21cf0e613ac0",
   "metadata": {},
   "outputs": [],
   "source": []
  },
  {
   "cell_type": "markdown",
   "id": "77c7ad12-bef8-41c1-8e35-b9f8464e9e04",
   "metadata": {},
   "source": [
    "### 16. Apply Agglomerative clustering and segment the data. (You may use original data or PCA transformed data) "
   ]
  },
  {
   "cell_type": "code",
   "execution_count": 466,
   "id": "cd53d199-e80b-4230-8a88-532fb9a65d66",
   "metadata": {},
   "outputs": [
    {
     "ename": "NameError",
     "evalue": "name 'data_pca' is not defined",
     "output_type": "error",
     "traceback": [
      "\u001b[1;31m---------------------------------------------------------------------------\u001b[0m",
      "\u001b[1;31mNameError\u001b[0m                                 Traceback (most recent call last)",
      "Cell \u001b[1;32mIn[466], line 2\u001b[0m\n\u001b[0;32m      1\u001b[0m plt\u001b[38;5;241m.\u001b[39mfigure(figsize\u001b[38;5;241m=\u001b[39m[\u001b[38;5;241m18\u001b[39m,\u001b[38;5;241m7\u001b[39m])\n\u001b[1;32m----> 2\u001b[0m merg \u001b[38;5;241m=\u001b[39m linkage(data_pca, method\u001b[38;5;241m=\u001b[39m\u001b[38;5;124m'\u001b[39m\u001b[38;5;124mward\u001b[39m\u001b[38;5;124m'\u001b[39m)\n\u001b[0;32m      3\u001b[0m dendrogram(merg, leaf_rotation\u001b[38;5;241m=\u001b[39m\u001b[38;5;241m90\u001b[39m,)\n\u001b[0;32m      4\u001b[0m plt\u001b[38;5;241m.\u001b[39mxlabel(\u001b[38;5;124m'\u001b[39m\u001b[38;5;124mDatapoints\u001b[39m\u001b[38;5;124m'\u001b[39m)\n",
      "\u001b[1;31mNameError\u001b[0m: name 'data_pca' is not defined"
     ]
    },
    {
     "data": {
      "text/plain": [
       "<Figure size 1800x700 with 0 Axes>"
      ]
     },
     "metadata": {},
     "output_type": "display_data"
    }
   ],
   "source": [
    "plt.figure(figsize=[18,7])\n",
    "merg = linkage(data_pca, method='ward')\n",
    "dendrogram(merg, leaf_rotation=90,)\n",
    "plt.xlabel('Datapoints')\n",
    "plt.ylabel('Euclidean distance')\n",
    "plt.show()"
   ]
  },
  {
   "cell_type": "markdown",
   "id": "d4443b74-4488-4657-8c69-5711b890b181",
   "metadata": {},
   "source": [
    "###  a. Find the optimal K Value using dendrogram for Agglomerative clustering."
   ]
  },
  {
   "cell_type": "code",
   "execution_count": null,
   "id": "47766427-1f46-4492-83b2-2e9efb1e3e27",
   "metadata": {},
   "outputs": [],
   "source": []
  },
  {
   "cell_type": "markdown",
   "id": "3f9fa1af-6886-4707-af8c-d589d0f72b2b",
   "metadata": {},
   "source": [
    "###  b. Build a Agglomerative clustering model using the obtained optimal K value observed from dendrogram."
   ]
  },
  {
   "cell_type": "code",
   "execution_count": 468,
   "id": "6e53f108-f312-4d0b-a440-b314fd38043a",
   "metadata": {},
   "outputs": [
    {
     "data": {
      "image/png": "[encoded data removed]",
      "text/plain": [
       "<Figure size 1800x500 with 1 Axes>"
      ]
     },
     "metadata": {},
     "output_type": "display_data"
    }
   ],
   "source": [
    "plt.figure(figsize=[18,5])\n",
    "merg = linkage(scaled_features, method='ward')\n",
    "dendrogram(merg, leaf_rotation=90,)\n",
    "plt.xlabel('Datapoints')\n",
    "plt.ylabel('Euclidean distance')\n",
    "plt.show()"
   ]
  },
  {
   "cell_type": "markdown",
   "id": "23811612-d2df-4ac3-97f4-0498c0babc28",
   "metadata": {},
   "source": [
    "### c. Compute silhouette score for evaluating the quality of the Agglomerative clustering technique. (Hint: Take a sample of the dataset for agglomerative clustering to reduce the computational time)\n"
   ]
  },
  {
   "cell_type": "code",
   "execution_count": 470,
   "id": "7ea4a21b-a11d-42c8-9470-3458eee99008",
   "metadata": {},
   "outputs": [],
   "source": [
    "from sklearn.metrics import silhouette_score"
   ]
  },
  {
   "cell_type": "code",
   "execution_count": 472,
   "id": "66568c71-7b65-4014-a87f-df9e01cab540",
   "metadata": {},
   "outputs": [
    {
     "name": "stdout",
     "output_type": "stream",
     "text": [
      "2 0.3740118423302576\n"
     ]
    },
    {
     "ename": "ValueError",
     "evalue": "Number of labels is 3. Valid values are 2 to n_samples - 1 (inclusive)",
     "output_type": "error",
     "traceback": [
      "\u001b[1;31m---------------------------------------------------------------------------\u001b[0m",
      "\u001b[1;31mValueError\u001b[0m                                Traceback (most recent call last)",
      "Cell \u001b[1;32mIn[472], line 5\u001b[0m\n\u001b[0;32m      3\u001b[0m hier \u001b[38;5;241m=\u001b[39m hier\u001b[38;5;241m.\u001b[39mfit(scaled_features_df)\n\u001b[0;32m      4\u001b[0m labels \u001b[38;5;241m=\u001b[39m hier\u001b[38;5;241m.\u001b[39mfit_predict(scaled_features_df)\n\u001b[1;32m----> 5\u001b[0m \u001b[38;5;28mprint\u001b[39m(i,silhouette_score(scaled_features_df,labels))\n",
      "File \u001b[1;32mC:\\anaconda\\Lib\\site-packages\\sklearn\\utils\\_param_validation.py:213\u001b[0m, in \u001b[0;36mvalidate_params.<locals>.decorator.<locals>.wrapper\u001b[1;34m(*args, **kwargs)\u001b[0m\n\u001b[0;32m    207\u001b[0m \u001b[38;5;28;01mtry\u001b[39;00m:\n\u001b[0;32m    208\u001b[0m     \u001b[38;5;28;01mwith\u001b[39;00m config_context(\n\u001b[0;32m    209\u001b[0m         skip_parameter_validation\u001b[38;5;241m=\u001b[39m(\n\u001b[0;32m    210\u001b[0m             prefer_skip_nested_validation \u001b[38;5;129;01mor\u001b[39;00m global_skip_validation\n\u001b[0;32m    211\u001b[0m         )\n\u001b[0;32m    212\u001b[0m     ):\n\u001b[1;32m--> 213\u001b[0m         \u001b[38;5;28;01mreturn\u001b[39;00m func(\u001b[38;5;241m*\u001b[39margs, \u001b[38;5;241m*\u001b[39m\u001b[38;5;241m*\u001b[39mkwargs)\n\u001b[0;32m    214\u001b[0m \u001b[38;5;28;01mexcept\u001b[39;00m InvalidParameterError \u001b[38;5;28;01mas\u001b[39;00m e:\n\u001b[0;32m    215\u001b[0m     \u001b[38;5;66;03m# When the function is just a wrapper around an estimator, we allow\u001b[39;00m\n\u001b[0;32m    216\u001b[0m     \u001b[38;5;66;03m# the function to delegate validation to the estimator, but we replace\u001b[39;00m\n\u001b[0;32m    217\u001b[0m     \u001b[38;5;66;03m# the name of the estimator by the name of the function in the error\u001b[39;00m\n\u001b[0;32m    218\u001b[0m     \u001b[38;5;66;03m# message to avoid confusion.\u001b[39;00m\n\u001b[0;32m    219\u001b[0m     msg \u001b[38;5;241m=\u001b[39m re\u001b[38;5;241m.\u001b[39msub(\n\u001b[0;32m    220\u001b[0m         \u001b[38;5;124mr\u001b[39m\u001b[38;5;124m\"\u001b[39m\u001b[38;5;124mparameter of \u001b[39m\u001b[38;5;124m\\\u001b[39m\u001b[38;5;124mw+ must be\u001b[39m\u001b[38;5;124m\"\u001b[39m,\n\u001b[0;32m    221\u001b[0m         \u001b[38;5;124mf\u001b[39m\u001b[38;5;124m\"\u001b[39m\u001b[38;5;124mparameter of \u001b[39m\u001b[38;5;132;01m{\u001b[39;00mfunc\u001b[38;5;241m.\u001b[39m\u001b[38;5;18m__qualname__\u001b[39m\u001b[38;5;132;01m}\u001b[39;00m\u001b[38;5;124m must be\u001b[39m\u001b[38;5;124m\"\u001b[39m,\n\u001b[0;32m    222\u001b[0m         \u001b[38;5;28mstr\u001b[39m(e),\n\u001b[0;32m    223\u001b[0m     )\n",
      "File \u001b[1;32mC:\\anaconda\\Lib\\site-packages\\sklearn\\metrics\\cluster\\_unsupervised.py:140\u001b[0m, in \u001b[0;36msilhouette_score\u001b[1;34m(X, labels, metric, sample_size, random_state, **kwds)\u001b[0m\n\u001b[0;32m    138\u001b[0m     \u001b[38;5;28;01melse\u001b[39;00m:\n\u001b[0;32m    139\u001b[0m         X, labels \u001b[38;5;241m=\u001b[39m X[indices], labels[indices]\n\u001b[1;32m--> 140\u001b[0m \u001b[38;5;28;01mreturn\u001b[39;00m np\u001b[38;5;241m.\u001b[39mmean(silhouette_samples(X, labels, metric\u001b[38;5;241m=\u001b[39mmetric, \u001b[38;5;241m*\u001b[39m\u001b[38;5;241m*\u001b[39mkwds))\n",
      "File \u001b[1;32mC:\\anaconda\\Lib\\site-packages\\sklearn\\utils\\_param_validation.py:186\u001b[0m, in \u001b[0;36mvalidate_params.<locals>.decorator.<locals>.wrapper\u001b[1;34m(*args, **kwargs)\u001b[0m\n\u001b[0;32m    184\u001b[0m global_skip_validation \u001b[38;5;241m=\u001b[39m get_config()[\u001b[38;5;124m\"\u001b[39m\u001b[38;5;124mskip_parameter_validation\u001b[39m\u001b[38;5;124m\"\u001b[39m]\n\u001b[0;32m    185\u001b[0m \u001b[38;5;28;01mif\u001b[39;00m global_skip_validation:\n\u001b[1;32m--> 186\u001b[0m     \u001b[38;5;28;01mreturn\u001b[39;00m func(\u001b[38;5;241m*\u001b[39margs, \u001b[38;5;241m*\u001b[39m\u001b[38;5;241m*\u001b[39mkwargs)\n\u001b[0;32m    188\u001b[0m func_sig \u001b[38;5;241m=\u001b[39m signature(func)\n\u001b[0;32m    190\u001b[0m \u001b[38;5;66;03m# Map *args/**kwargs to the function signature\u001b[39;00m\n",
      "File \u001b[1;32mC:\\anaconda\\Lib\\site-packages\\sklearn\\metrics\\cluster\\_unsupervised.py:297\u001b[0m, in \u001b[0;36msilhouette_samples\u001b[1;34m(X, labels, metric, **kwds)\u001b[0m\n\u001b[0;32m    295\u001b[0m n_samples \u001b[38;5;241m=\u001b[39m \u001b[38;5;28mlen\u001b[39m(labels)\n\u001b[0;32m    296\u001b[0m label_freqs \u001b[38;5;241m=\u001b[39m np\u001b[38;5;241m.\u001b[39mbincount(labels)\n\u001b[1;32m--> 297\u001b[0m check_number_of_labels(\u001b[38;5;28mlen\u001b[39m(le\u001b[38;5;241m.\u001b[39mclasses_), n_samples)\n\u001b[0;32m    299\u001b[0m kwds[\u001b[38;5;124m\"\u001b[39m\u001b[38;5;124mmetric\u001b[39m\u001b[38;5;124m\"\u001b[39m] \u001b[38;5;241m=\u001b[39m metric\n\u001b[0;32m    300\u001b[0m reduce_func \u001b[38;5;241m=\u001b[39m functools\u001b[38;5;241m.\u001b[39mpartial(\n\u001b[0;32m    301\u001b[0m     _silhouette_reduce, labels\u001b[38;5;241m=\u001b[39mlabels, label_freqs\u001b[38;5;241m=\u001b[39mlabel_freqs\n\u001b[0;32m    302\u001b[0m )\n",
      "File \u001b[1;32mC:\\anaconda\\Lib\\site-packages\\sklearn\\metrics\\cluster\\_unsupervised.py:37\u001b[0m, in \u001b[0;36mcheck_number_of_labels\u001b[1;34m(n_labels, n_samples)\u001b[0m\n\u001b[0;32m     26\u001b[0m \u001b[38;5;250m\u001b[39m\u001b[38;5;124;03m\"\"\"Check that number of labels are valid.\u001b[39;00m\n\u001b[0;32m     27\u001b[0m \n\u001b[0;32m     28\u001b[0m \u001b[38;5;124;03mParameters\u001b[39;00m\n\u001b[1;32m   (...)\u001b[0m\n\u001b[0;32m     34\u001b[0m \u001b[38;5;124;03m    Number of samples.\u001b[39;00m\n\u001b[0;32m     35\u001b[0m \u001b[38;5;124;03m\"\"\"\u001b[39;00m\n\u001b[0;32m     36\u001b[0m \u001b[38;5;28;01mif\u001b[39;00m \u001b[38;5;129;01mnot\u001b[39;00m \u001b[38;5;241m1\u001b[39m \u001b[38;5;241m<\u001b[39m n_labels \u001b[38;5;241m<\u001b[39m n_samples:\n\u001b[1;32m---> 37\u001b[0m     \u001b[38;5;28;01mraise\u001b[39;00m \u001b[38;5;167;01mValueError\u001b[39;00m(\n\u001b[0;32m     38\u001b[0m         \u001b[38;5;124m\"\u001b[39m\u001b[38;5;124mNumber of labels is \u001b[39m\u001b[38;5;132;01m%d\u001b[39;00m\u001b[38;5;124m. Valid values are 2 to n_samples - 1 (inclusive)\u001b[39m\u001b[38;5;124m\"\u001b[39m\n\u001b[0;32m     39\u001b[0m         \u001b[38;5;241m%\u001b[39m n_labels\n\u001b[0;32m     40\u001b[0m     )\n",
      "\u001b[1;31mValueError\u001b[0m: Number of labels is 3. Valid values are 2 to n_samples - 1 (inclusive)"
     ]
    }
   ],
   "source": [
    "for i in range(2,15):\n",
    "    hier = AgglomerativeClustering(n_clusters=i)\n",
    "    hier = hier.fit(scaled_features_df)\n",
    "    labels = hier.fit_predict(scaled_features_df)\n",
    "    print(i,silhouette_score(scaled_features_df,labels))"
   ]
  },
  {
   "cell_type": "code",
   "execution_count": 474,
   "id": "08c6cf79-e74c-4ff8-8f40-b3b24e2d2242",
   "metadata": {},
   "outputs": [
    {
     "ename": "TypeError",
     "evalue": "AgglomerativeClustering.__init__() got an unexpected keyword argument 'affinity'",
     "output_type": "error",
     "traceback": [
      "\u001b[1;31m---------------------------------------------------------------------------\u001b[0m",
      "\u001b[1;31mTypeError\u001b[0m                                 Traceback (most recent call last)",
      "Cell \u001b[1;32mIn[474], line 2\u001b[0m\n\u001b[0;32m      1\u001b[0m \u001b[38;5;66;03m## Building hierarchical clustering model using the optimal clusters as 3 using original data\u001b[39;00m\n\u001b[1;32m----> 2\u001b[0m hie_cluster \u001b[38;5;241m=\u001b[39m AgglomerativeClustering(n_clusters\u001b[38;5;241m=\u001b[39m\u001b[38;5;241m3\u001b[39m, affinity\u001b[38;5;241m=\u001b[39m\u001b[38;5;124m'\u001b[39m\u001b[38;5;124meuclidean\u001b[39m\u001b[38;5;124m'\u001b[39m,\n\u001b[0;32m      3\u001b[0m                                      linkage\u001b[38;5;241m=\u001b[39m\u001b[38;5;124m'\u001b[39m\u001b[38;5;124mward\u001b[39m\u001b[38;5;124m'\u001b[39m)\n\u001b[0;32m      4\u001b[0m hie_cluster_model \u001b[38;5;241m=\u001b[39m hie_cluster\u001b[38;5;241m.\u001b[39mfit(scaled_features_df)\n",
      "\u001b[1;31mTypeError\u001b[0m: AgglomerativeClustering.__init__() got an unexpected keyword argument 'affinity'"
     ]
    }
   ],
   "source": [
    "## Building hierarchical clustering model using the optimal clusters as 3 using original data\n",
    "hie_cluster = AgglomerativeClustering(n_clusters=3, affinity='euclidean',\n",
    "                                     linkage='ward')\n",
    "hie_cluster_model = hie_cluster.fit(scaled_features_df)"
   ]
  },
  {
   "cell_type": "code",
   "execution_count": 476,
   "id": "62d6592f-16d0-49e2-9568-8067e81af816",
   "metadata": {},
   "outputs": [
    {
     "ename": "NameError",
     "evalue": "name 'hie_cluster_model' is not defined",
     "output_type": "error",
     "traceback": [
      "\u001b[1;31m---------------------------------------------------------------------------\u001b[0m",
      "\u001b[1;31mNameError\u001b[0m                                 Traceback (most recent call last)",
      "Cell \u001b[1;32mIn[476], line 2\u001b[0m\n\u001b[0;32m      1\u001b[0m \u001b[38;5;66;03m## Creating a dataframe of the labels\u001b[39;00m\n\u001b[1;32m----> 2\u001b[0m df_label1 \u001b[38;5;241m=\u001b[39m pd\u001b[38;5;241m.\u001b[39mDataFrame(hie_cluster_model\u001b[38;5;241m.\u001b[39mlabels_,columns\u001b[38;5;241m=\u001b[39m[\u001b[38;5;124m'\u001b[39m\u001b[38;5;124mLabels\u001b[39m\u001b[38;5;124m'\u001b[39m])\n\u001b[0;32m      3\u001b[0m df_label1\u001b[38;5;241m.\u001b[39mhead(\u001b[38;5;241m5\u001b[39m)\n",
      "\u001b[1;31mNameError\u001b[0m: name 'hie_cluster_model' is not defined"
     ]
    }
   ],
   "source": [
    "## Creating a dataframe of the labels\n",
    "df_label1 = pd.DataFrame(hie_cluster_model.labels_,columns=['Labels'])\n",
    "df_label1.head(5)"
   ]
  },
  {
   "cell_type": "markdown",
   "id": "ea2f5592-c089-4529-9983-5c44828e84c1",
   "metadata": {},
   "source": [
    "##  Conclusion : "
   ]
  },
  {
   "cell_type": "markdown",
   "id": "f2b06357-f27c-4f07-bc27-c7fb2fec4026",
   "metadata": {},
   "source": [
    "### 17. Perform cluster analysis by doing bivariate analysis between cluster labels  and different features and write your conclusion on the results. "
   ]
  },
  {
   "cell_type": "code",
   "execution_count": null,
   "id": "9eb46022-e455-4c02-9a7b-6851fd73adff",
   "metadata": {},
   "outputs": [],
   "source": [
    "import pandas as pd\n",
    "import numpy as np\n",
    "\n",
    "# Sample DataFrame\n",
    "data = {\n",
    "    'feature1': np.random.rand(100),\n",
    "    'feature2': np.random.rand(100),\n",
    "    'feature3': np.random.rand(100)\n",
    "}\n",
    "df = pd.DataFrame(data)"
   ]
  },
  {
   "cell_type": "code",
   "execution_count": null,
   "id": "3885c0fa-4fda-4d90-b94e-60896d92ab02",
   "metadata": {},
   "outputs": [],
   "source": [
    "from sklearn.cluster import KMeans\n",
    "\n",
    "# Define the number of clusters\n",
    "n_clusters = 3\n",
    "\n",
    "# Fit the KMeans model\n",
    "kmeans = KMeans(n_clusters=n_clusters, random_state=42)\n",
    "df['cluster'] = kmeans.fit_predict(df[['feature1', 'feature2', 'feature3']])"
   ]
  },
  {
   "cell_type": "code",
   "execution_count": 478,
   "id": "214da4ac-bf31-4326-9f9c-0bbaf3a3f0dd",
   "metadata": {},
   "outputs": [
    {
     "ename": "ValueError",
     "evalue": "Could not interpret value `feature1` for `x`. An entry with this name does not appear in `data`.",
     "output_type": "error",
     "traceback": [
      "\u001b[1;31m---------------------------------------------------------------------------\u001b[0m",
      "\u001b[1;31mValueError\u001b[0m                                Traceback (most recent call last)",
      "Cell \u001b[1;32mIn[478], line 9\u001b[0m\n\u001b[0;32m      7\u001b[0m \u001b[38;5;66;03m# Scatter plot for feature1 vs feature2 colored by cluster\u001b[39;00m\n\u001b[0;32m      8\u001b[0m plt\u001b[38;5;241m.\u001b[39mfigure(figsize\u001b[38;5;241m=\u001b[39m(\u001b[38;5;241m10\u001b[39m, \u001b[38;5;241m6\u001b[39m))\n\u001b[1;32m----> 9\u001b[0m sns\u001b[38;5;241m.\u001b[39mscatterplot(data\u001b[38;5;241m=\u001b[39mdf, x\u001b[38;5;241m=\u001b[39m\u001b[38;5;124m'\u001b[39m\u001b[38;5;124mfeature1\u001b[39m\u001b[38;5;124m'\u001b[39m, y\u001b[38;5;241m=\u001b[39m\u001b[38;5;124m'\u001b[39m\u001b[38;5;124mfeature2\u001b[39m\u001b[38;5;124m'\u001b[39m, hue\u001b[38;5;241m=\u001b[39m\u001b[38;5;124m'\u001b[39m\u001b[38;5;124mcluster\u001b[39m\u001b[38;5;124m'\u001b[39m, palette\u001b[38;5;241m=\u001b[39m\u001b[38;5;124m'\u001b[39m\u001b[38;5;124mviridis\u001b[39m\u001b[38;5;124m'\u001b[39m, s\u001b[38;5;241m=\u001b[39m\u001b[38;5;241m100\u001b[39m)\n\u001b[0;32m     10\u001b[0m plt\u001b[38;5;241m.\u001b[39mtitle(\u001b[38;5;124m'\u001b[39m\u001b[38;5;124mScatter Plot of Feature1 vs Feature2 by Cluster\u001b[39m\u001b[38;5;124m'\u001b[39m)\n\u001b[0;32m     11\u001b[0m plt\u001b[38;5;241m.\u001b[39mxlabel(\u001b[38;5;124m'\u001b[39m\u001b[38;5;124mFeature 1\u001b[39m\u001b[38;5;124m'\u001b[39m)\n",
      "File \u001b[1;32mC:\\anaconda\\Lib\\site-packages\\seaborn\\relational.py:615\u001b[0m, in \u001b[0;36mscatterplot\u001b[1;34m(data, x, y, hue, size, style, palette, hue_order, hue_norm, sizes, size_order, size_norm, markers, style_order, legend, ax, **kwargs)\u001b[0m\n\u001b[0;32m    606\u001b[0m \u001b[38;5;28;01mdef\u001b[39;00m \u001b[38;5;21mscatterplot\u001b[39m(\n\u001b[0;32m    607\u001b[0m     data\u001b[38;5;241m=\u001b[39m\u001b[38;5;28;01mNone\u001b[39;00m, \u001b[38;5;241m*\u001b[39m,\n\u001b[0;32m    608\u001b[0m     x\u001b[38;5;241m=\u001b[39m\u001b[38;5;28;01mNone\u001b[39;00m, y\u001b[38;5;241m=\u001b[39m\u001b[38;5;28;01mNone\u001b[39;00m, hue\u001b[38;5;241m=\u001b[39m\u001b[38;5;28;01mNone\u001b[39;00m, size\u001b[38;5;241m=\u001b[39m\u001b[38;5;28;01mNone\u001b[39;00m, style\u001b[38;5;241m=\u001b[39m\u001b[38;5;28;01mNone\u001b[39;00m,\n\u001b[1;32m   (...)\u001b[0m\n\u001b[0;32m    612\u001b[0m     \u001b[38;5;241m*\u001b[39m\u001b[38;5;241m*\u001b[39mkwargs\n\u001b[0;32m    613\u001b[0m ):\n\u001b[1;32m--> 615\u001b[0m     p \u001b[38;5;241m=\u001b[39m _ScatterPlotter(\n\u001b[0;32m    616\u001b[0m         data\u001b[38;5;241m=\u001b[39mdata,\n\u001b[0;32m    617\u001b[0m         variables\u001b[38;5;241m=\u001b[39m\u001b[38;5;28mdict\u001b[39m(x\u001b[38;5;241m=\u001b[39mx, y\u001b[38;5;241m=\u001b[39my, hue\u001b[38;5;241m=\u001b[39mhue, size\u001b[38;5;241m=\u001b[39msize, style\u001b[38;5;241m=\u001b[39mstyle),\n\u001b[0;32m    618\u001b[0m         legend\u001b[38;5;241m=\u001b[39mlegend\n\u001b[0;32m    619\u001b[0m     )\n\u001b[0;32m    621\u001b[0m     p\u001b[38;5;241m.\u001b[39mmap_hue(palette\u001b[38;5;241m=\u001b[39mpalette, order\u001b[38;5;241m=\u001b[39mhue_order, norm\u001b[38;5;241m=\u001b[39mhue_norm)\n\u001b[0;32m    622\u001b[0m     p\u001b[38;5;241m.\u001b[39mmap_size(sizes\u001b[38;5;241m=\u001b[39msizes, order\u001b[38;5;241m=\u001b[39msize_order, norm\u001b[38;5;241m=\u001b[39msize_norm)\n",
      "File \u001b[1;32mC:\\anaconda\\Lib\\site-packages\\seaborn\\relational.py:396\u001b[0m, in \u001b[0;36m_ScatterPlotter.__init__\u001b[1;34m(self, data, variables, legend)\u001b[0m\n\u001b[0;32m    387\u001b[0m \u001b[38;5;28;01mdef\u001b[39;00m \u001b[38;5;21m__init__\u001b[39m(\u001b[38;5;28mself\u001b[39m, \u001b[38;5;241m*\u001b[39m, data\u001b[38;5;241m=\u001b[39m\u001b[38;5;28;01mNone\u001b[39;00m, variables\u001b[38;5;241m=\u001b[39m{}, legend\u001b[38;5;241m=\u001b[39m\u001b[38;5;28;01mNone\u001b[39;00m):\n\u001b[0;32m    388\u001b[0m \n\u001b[0;32m    389\u001b[0m     \u001b[38;5;66;03m# TODO this is messy, we want the mapping to be agnostic about\u001b[39;00m\n\u001b[0;32m    390\u001b[0m     \u001b[38;5;66;03m# the kind of plot to draw, but for the time being we need to set\u001b[39;00m\n\u001b[0;32m    391\u001b[0m     \u001b[38;5;66;03m# this information so the SizeMapping can use it\u001b[39;00m\n\u001b[0;32m    392\u001b[0m     \u001b[38;5;28mself\u001b[39m\u001b[38;5;241m.\u001b[39m_default_size_range \u001b[38;5;241m=\u001b[39m (\n\u001b[0;32m    393\u001b[0m         np\u001b[38;5;241m.\u001b[39mr_[\u001b[38;5;241m.5\u001b[39m, \u001b[38;5;241m2\u001b[39m] \u001b[38;5;241m*\u001b[39m np\u001b[38;5;241m.\u001b[39msquare(mpl\u001b[38;5;241m.\u001b[39mrcParams[\u001b[38;5;124m\"\u001b[39m\u001b[38;5;124mlines.markersize\u001b[39m\u001b[38;5;124m\"\u001b[39m])\n\u001b[0;32m    394\u001b[0m     )\n\u001b[1;32m--> 396\u001b[0m     \u001b[38;5;28msuper\u001b[39m()\u001b[38;5;241m.\u001b[39m\u001b[38;5;21m__init__\u001b[39m(data\u001b[38;5;241m=\u001b[39mdata, variables\u001b[38;5;241m=\u001b[39mvariables)\n\u001b[0;32m    398\u001b[0m     \u001b[38;5;28mself\u001b[39m\u001b[38;5;241m.\u001b[39mlegend \u001b[38;5;241m=\u001b[39m legend\n",
      "File \u001b[1;32mC:\\anaconda\\Lib\\site-packages\\seaborn\\_base.py:634\u001b[0m, in \u001b[0;36mVectorPlotter.__init__\u001b[1;34m(self, data, variables)\u001b[0m\n\u001b[0;32m    629\u001b[0m \u001b[38;5;66;03m# var_ordered is relevant only for categorical axis variables, and may\u001b[39;00m\n\u001b[0;32m    630\u001b[0m \u001b[38;5;66;03m# be better handled by an internal axis information object that tracks\u001b[39;00m\n\u001b[0;32m    631\u001b[0m \u001b[38;5;66;03m# such information and is set up by the scale_* methods. The analogous\u001b[39;00m\n\u001b[0;32m    632\u001b[0m \u001b[38;5;66;03m# information for numeric axes would be information about log scales.\u001b[39;00m\n\u001b[0;32m    633\u001b[0m \u001b[38;5;28mself\u001b[39m\u001b[38;5;241m.\u001b[39m_var_ordered \u001b[38;5;241m=\u001b[39m {\u001b[38;5;124m\"\u001b[39m\u001b[38;5;124mx\u001b[39m\u001b[38;5;124m\"\u001b[39m: \u001b[38;5;28;01mFalse\u001b[39;00m, \u001b[38;5;124m\"\u001b[39m\u001b[38;5;124my\u001b[39m\u001b[38;5;124m\"\u001b[39m: \u001b[38;5;28;01mFalse\u001b[39;00m}  \u001b[38;5;66;03m# alt., used DefaultDict\u001b[39;00m\n\u001b[1;32m--> 634\u001b[0m \u001b[38;5;28mself\u001b[39m\u001b[38;5;241m.\u001b[39massign_variables(data, variables)\n\u001b[0;32m    636\u001b[0m \u001b[38;5;66;03m# TODO Lots of tests assume that these are called to initialize the\u001b[39;00m\n\u001b[0;32m    637\u001b[0m \u001b[38;5;66;03m# mappings to default values on class initialization. I'd prefer to\u001b[39;00m\n\u001b[0;32m    638\u001b[0m \u001b[38;5;66;03m# move away from that and only have a mapping when explicitly called.\u001b[39;00m\n\u001b[0;32m    639\u001b[0m \u001b[38;5;28;01mfor\u001b[39;00m var \u001b[38;5;129;01min\u001b[39;00m [\u001b[38;5;124m\"\u001b[39m\u001b[38;5;124mhue\u001b[39m\u001b[38;5;124m\"\u001b[39m, \u001b[38;5;124m\"\u001b[39m\u001b[38;5;124msize\u001b[39m\u001b[38;5;124m\"\u001b[39m, \u001b[38;5;124m\"\u001b[39m\u001b[38;5;124mstyle\u001b[39m\u001b[38;5;124m\"\u001b[39m]:\n",
      "File \u001b[1;32mC:\\anaconda\\Lib\\site-packages\\seaborn\\_base.py:679\u001b[0m, in \u001b[0;36mVectorPlotter.assign_variables\u001b[1;34m(self, data, variables)\u001b[0m\n\u001b[0;32m    674\u001b[0m \u001b[38;5;28;01melse\u001b[39;00m:\n\u001b[0;32m    675\u001b[0m     \u001b[38;5;66;03m# When dealing with long-form input, use the newer PlotData\u001b[39;00m\n\u001b[0;32m    676\u001b[0m     \u001b[38;5;66;03m# object (internal but introduced for the objects interface)\u001b[39;00m\n\u001b[0;32m    677\u001b[0m     \u001b[38;5;66;03m# to centralize / standardize data consumption logic.\u001b[39;00m\n\u001b[0;32m    678\u001b[0m     \u001b[38;5;28mself\u001b[39m\u001b[38;5;241m.\u001b[39minput_format \u001b[38;5;241m=\u001b[39m \u001b[38;5;124m\"\u001b[39m\u001b[38;5;124mlong\u001b[39m\u001b[38;5;124m\"\u001b[39m\n\u001b[1;32m--> 679\u001b[0m     plot_data \u001b[38;5;241m=\u001b[39m PlotData(data, variables)\n\u001b[0;32m    680\u001b[0m     frame \u001b[38;5;241m=\u001b[39m plot_data\u001b[38;5;241m.\u001b[39mframe\n\u001b[0;32m    681\u001b[0m     names \u001b[38;5;241m=\u001b[39m plot_data\u001b[38;5;241m.\u001b[39mnames\n",
      "File \u001b[1;32mC:\\anaconda\\Lib\\site-packages\\seaborn\\_core\\data.py:58\u001b[0m, in \u001b[0;36mPlotData.__init__\u001b[1;34m(self, data, variables)\u001b[0m\n\u001b[0;32m     51\u001b[0m \u001b[38;5;28;01mdef\u001b[39;00m \u001b[38;5;21m__init__\u001b[39m(\n\u001b[0;32m     52\u001b[0m     \u001b[38;5;28mself\u001b[39m,\n\u001b[0;32m     53\u001b[0m     data: DataSource,\n\u001b[0;32m     54\u001b[0m     variables: \u001b[38;5;28mdict\u001b[39m[\u001b[38;5;28mstr\u001b[39m, VariableSpec],\n\u001b[0;32m     55\u001b[0m ):\n\u001b[0;32m     57\u001b[0m     data \u001b[38;5;241m=\u001b[39m handle_data_source(data)\n\u001b[1;32m---> 58\u001b[0m     frame, names, ids \u001b[38;5;241m=\u001b[39m \u001b[38;5;28mself\u001b[39m\u001b[38;5;241m.\u001b[39m_assign_variables(data, variables)\n\u001b[0;32m     60\u001b[0m     \u001b[38;5;28mself\u001b[39m\u001b[38;5;241m.\u001b[39mframe \u001b[38;5;241m=\u001b[39m frame\n\u001b[0;32m     61\u001b[0m     \u001b[38;5;28mself\u001b[39m\u001b[38;5;241m.\u001b[39mnames \u001b[38;5;241m=\u001b[39m names\n",
      "File \u001b[1;32mC:\\anaconda\\Lib\\site-packages\\seaborn\\_core\\data.py:232\u001b[0m, in \u001b[0;36mPlotData._assign_variables\u001b[1;34m(self, data, variables)\u001b[0m\n\u001b[0;32m    230\u001b[0m     \u001b[38;5;28;01melse\u001b[39;00m:\n\u001b[0;32m    231\u001b[0m         err \u001b[38;5;241m+\u001b[39m\u001b[38;5;241m=\u001b[39m \u001b[38;5;124m\"\u001b[39m\u001b[38;5;124mAn entry with this name does not appear in `data`.\u001b[39m\u001b[38;5;124m\"\u001b[39m\n\u001b[1;32m--> 232\u001b[0m     \u001b[38;5;28;01mraise\u001b[39;00m \u001b[38;5;167;01mValueError\u001b[39;00m(err)\n\u001b[0;32m    234\u001b[0m \u001b[38;5;28;01melse\u001b[39;00m:\n\u001b[0;32m    235\u001b[0m \n\u001b[0;32m    236\u001b[0m     \u001b[38;5;66;03m# Otherwise, assume the value somehow represents data\u001b[39;00m\n\u001b[0;32m    237\u001b[0m \n\u001b[0;32m    238\u001b[0m     \u001b[38;5;66;03m# Ignore empty data structures\u001b[39;00m\n\u001b[0;32m    239\u001b[0m     \u001b[38;5;28;01mif\u001b[39;00m \u001b[38;5;28misinstance\u001b[39m(val, Sized) \u001b[38;5;129;01mand\u001b[39;00m \u001b[38;5;28mlen\u001b[39m(val) \u001b[38;5;241m==\u001b[39m \u001b[38;5;241m0\u001b[39m:\n",
      "\u001b[1;31mValueError\u001b[0m: Could not interpret value `feature1` for `x`. An entry with this name does not appear in `data`."
     ]
    },
    {
     "data": {
      "text/plain": [
       "<Figure size 1000x600 with 0 Axes>"
      ]
     },
     "metadata": {},
     "output_type": "display_data"
    }
   ],
   "source": [
    "import matplotlib.pyplot as plt\n",
    "import seaborn as sns\n",
    "\n",
    "# Set the aesthetic style of the plots\n",
    "sns.set(style=\"whitegrid\")\n",
    "\n",
    "# Scatter plot for feature1 vs feature2 colored by cluster\n",
    "plt.figure(figsize=(10, 6))\n",
    "sns.scatterplot(data=df, x='feature1', y='feature2', hue='cluster', palette='viridis', s=100)\n",
    "plt.title('Scatter Plot of Feature1 vs Feature2 by Cluster')\n",
    "plt.xlabel('Feature 1')\n",
    "plt.ylabel('Feature 2')\n",
    "plt.legend(title='Cluster')\n",
    "plt.show()\n",
    "\n",
    "# Box plot for feature3 by cluster\n",
    "plt.figure(figsize=(10, 6))\n",
    "sns.boxplot(data=df, x='cluster', y='feature3', palette='viridis')\n",
    "plt.title('Box Plot of Feature3 by Cluster')\n",
    "plt.xlabel('Cluster')\n",
    "plt.ylabel('Feature 3')\n",
    "plt.show()"
   ]
  },
  {
   "cell_type": "code",
   "execution_count": null,
   "id": "0270f361-30fb-4fc5-882b-38c2aa88356e",
   "metadata": {},
   "outputs": [],
   "source": []
  }
 ],
 "metadata": {
  "kernelspec": {
   "display_name": "Python 3 (ipykernel)",
   "language": "python",
   "name": "python3"
  },
  "language_info": {
   "codemirror_mode": {
    "name": "ipython",
    "version": 3
   },
   "file_extension": ".py",
   "mimetype": "text/x-python",
   "name": "python",
   "nbconvert_exporter": "python",
   "pygments_lexer": "ipython3",
   "version": "3.12.4"
  }
 },
 "nbformat": 4,
 "nbformat_minor": 5
}
